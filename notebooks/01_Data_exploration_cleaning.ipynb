{
 "cells": [
  {
   "cell_type": "code",
   "execution_count": null,
   "metadata": {
    "id": "TW7ERyGpbojw"
   },
   "outputs": [],
   "source": [
    "import pandas as pd"
   ]
  },
  {
   "cell_type": "markdown",
   "metadata": {
    "id": "xRrlcOeHcAFs"
   },
   "source": [
    "# Read in raw data sets"
   ]
  },
  {
   "cell_type": "code",
   "execution_count": null,
   "metadata": {
    "id": "wyrBsymscCWM"
   },
   "outputs": [],
   "source": [
    "# The following csv-files provide the raw data we will use in this project\n",
    "\n",
    "# orders.csv\n",
    "orders = pd.read_csv('../data/raw/orders.csv')\n",
    "# orderlines.csv\n",
    "orderlines = pd.read_csv('../data/raw/orderlines.csv')\n",
    "# products.csv\n",
    "products = pd.read_csv('../data/raw/products.csv')\n",
    "# brands.csv\n",
    "brands = pd.read_csv('../data/raw/brands.csv')"
   ]
  },
  {
   "cell_type": "markdown",
   "metadata": {
    "id": "YwEkys_qpaPP"
   },
   "source": [
    "**Starting data status (rows, columns)**<br>\n",
    "<i>You can find the individual changes to the data cleaning process in the documentation in the folder ../docs</i>\n",
    "\n",
    "orders: (226909, 4)<br>\n",
    "orderlines:(293983, 7)<br>\n",
    "products:(19326, 7)<br>\n",
    "brands:(187, 2)<br>"
   ]
  },
  {
   "cell_type": "markdown",
   "metadata": {},
   "source": [
    "# Exploring the data sets\n",
    "<i>Note: I created a function that gives you all information about the data DataFrames"
   ]
  },
  {
   "cell_type": "code",
   "execution_count": null,
   "metadata": {},
   "outputs": [],
   "source": [
    "#\n",
    "# import sys\n",
    "# import os\n",
    "# Add the \"scripts\" directory relative to the notebook\n",
    "# sys.path.append(os.path.abspath('../scripts'))\n",
    "#"
   ]
  },
  {
   "cell_type": "code",
   "execution_count": null,
   "metadata": {},
   "outputs": [],
   "source": [
    "import sys\n",
    "import os\n",
    "# Add the \"scripts\" directory absolute to the notebook\n",
    "sys.path.append(os.path.abspath('../scripts'))\n",
    "from data_overview import data_overview"
   ]
  },
  {
   "cell_type": "code",
   "execution_count": null,
   "metadata": {},
   "outputs": [],
   "source": [
    "#\n",
    "# import importlib\n",
    "# import data_overview\n",
    "# importlib.reload(data_overview)\n",
    "# from data_overview import data_overview\n",
    "#"
   ]
  },
  {
   "cell_type": "code",
   "execution_count": null,
   "metadata": {},
   "outputs": [],
   "source": [
    "# Use function data_overview (change df_name for DataFrame)\n",
    "data_overview(orders, df_name=\"orders\")"
   ]
  },
  {
   "cell_type": "markdown",
   "metadata": {
    "id": "1W4rFoN2fUy7"
   },
   "source": [
    "# Cleaning of data sets"
   ]
  },
  {
   "cell_type": "markdown",
   "metadata": {
    "id": "SbleJKbvfYK4"
   },
   "source": [
    "## Removal of duplicates"
   ]
  },
  {
   "cell_type": "code",
   "execution_count": null,
   "metadata": {
    "id": "aRjXrKb8ftYQ"
   },
   "outputs": [],
   "source": [
    "# Creating copies if you like before start cleaning. I did not do so.\n",
    "orders_c = orders.copy()\n",
    "orderlines_c = orderlines.copy()\n",
    "products_c = products.copy()\n",
    "brands_c = brands.copy()"
   ]
  },
  {
   "cell_type": "code",
   "execution_count": null,
   "metadata": {
    "colab": {
     "base_uri": "https://localhost:8080/"
    },
    "executionInfo": {
     "elapsed": 13,
     "status": "ok",
     "timestamp": 1732096258109,
     "user": {
      "displayName": "Edicta Grullon",
      "userId": "06564017274082352377"
     },
     "user_tz": -60
    },
    "id": "guUSwDDwfpMa",
    "outputId": "fbd06ad3-69ef-4b6d-b969-58a253b0b29b"
   },
   "outputs": [],
   "source": [
    "# orders - no duplicates\n",
    "orders.duplicated().sum()"
   ]
  },
  {
   "cell_type": "code",
   "execution_count": null,
   "metadata": {
    "colab": {
     "base_uri": "https://localhost:8080/"
    },
    "executionInfo": {
     "elapsed": 308,
     "status": "ok",
     "timestamp": 1732096258408,
     "user": {
      "displayName": "Edicta Grullon",
      "userId": "06564017274082352377"
     },
     "user_tz": -60
    },
    "id": "o8FC7A5Hfq8s",
    "outputId": "1e567ea4-46dd-4010-ad66-e263e7f1e9fa"
   },
   "outputs": [],
   "source": [
    "# orderlines - no duplicates\n",
    "orderlines.duplicated().sum()"
   ]
  },
  {
   "cell_type": "code",
   "execution_count": null,
   "metadata": {
    "colab": {
     "base_uri": "https://localhost:8080/"
    },
    "executionInfo": {
     "elapsed": 290,
     "status": "ok",
     "timestamp": 1732096258695,
     "user": {
      "displayName": "Edicta Grullon",
      "userId": "06564017274082352377"
     },
     "user_tz": -60
    },
    "id": "VnUUMF-Zgc2X",
    "outputId": "52194157-83f8-4ba0-bb92-15de965025fd"
   },
   "outputs": [],
   "source": [
    "# A very large amount of products are duplicated (8746, or 45%)\n",
    "products.duplicated().sum()"
   ]
  },
  {
   "cell_type": "code",
   "execution_count": null,
   "metadata": {
    "id": "jCkVG65FgmhW"
   },
   "outputs": [],
   "source": [
    "# Dropping duplicates\n",
    "products.drop_duplicates(inplace=True)"
   ]
  },
  {
   "cell_type": "code",
   "execution_count": null,
   "metadata": {
    "id": "897Pfs3qgoc0"
   },
   "outputs": [],
   "source": [
    "# Verifying duplicates have been removed\n",
    "# Original number 19326 --> -8746 removed = updated number 10580\n",
    "products.info()"
   ]
  },
  {
   "cell_type": "code",
   "execution_count": null,
   "metadata": {
    "id": "zI7DMuz-iEA5"
   },
   "outputs": [],
   "source": [
    "# brands - no duplicates\n",
    "brands.info()"
   ]
  },
  {
   "cell_type": "markdown",
   "metadata": {
    "id": "uMDG9uJcf2NQ"
   },
   "source": [
    "## Removal of missing values"
   ]
  },
  {
   "cell_type": "code",
   "execution_count": null,
   "metadata": {
    "colab": {
     "base_uri": "https://localhost:8080/"
    },
    "executionInfo": {
     "elapsed": 16,
     "status": "ok",
     "timestamp": 1732096258697,
     "user": {
      "displayName": "Edicta Grullon",
      "userId": "06564017274082352377"
     },
     "user_tz": -60
    },
    "id": "ahfp2qz2gClc",
    "outputId": "852093e0-69fd-4595-9eed-dfeeb54a0a31"
   },
   "outputs": [],
   "source": [
    "# orders missing 5 values. There is such a tiny amount of missing values (0.000022%)\n",
    "orders.total_paid.isna().sum()"
   ]
  },
  {
   "cell_type": "code",
   "execution_count": null,
   "metadata": {
    "id": "Z7_f0bU6gGMz"
   },
   "outputs": [],
   "source": [
    "# orders missing values removed\n",
    "orders.dropna(subset=['total_paid'], inplace=True)\n",
    "# Alternative: orders = orders.loc[~orders.total_paid.isna(), :]"
   ]
  },
  {
   "cell_type": "code",
   "execution_count": null,
   "metadata": {
    "colab": {
     "base_uri": "https://localhost:8080/"
    },
    "executionInfo": {
     "elapsed": 13,
     "status": "ok",
     "timestamp": 1732096258698,
     "user": {
      "displayName": "Edicta Grullon",
      "userId": "06564017274082352377"
     },
     "user_tz": -60
    },
    "id": "mlS1GfWfgL-o",
    "outputId": "38f27f27-ba7a-460f-866c-71bd96043381"
   },
   "outputs": [],
   "source": [
    "# orderlines has no missing values\n",
    "orderlines.info()"
   ]
  },
  {
   "cell_type": "code",
   "execution_count": null,
   "metadata": {
    "colab": {
     "base_uri": "https://localhost:8080/"
    },
    "executionInfo": {
     "elapsed": 10,
     "status": "ok",
     "timestamp": 1732096258698,
     "user": {
      "displayName": "Edicta Grullon",
      "userId": "06564017274082352377"
     },
     "user_tz": -60
    },
    "id": "eVQS6NFGgz1V",
    "outputId": "ada8a196-01e0-4403-8c7d-f75e98eb220a"
   },
   "outputs": [],
   "source": [
    "# products has 3 columns missing values\n",
    "# 7 values are missing from the desc column\n",
    "# 46 values are missing from the price column\n",
    "# 50 values are missing from the type column -- !!!BUT we will not remove it and check it later again!!!\n",
    "products.info()"
   ]
  },
  {
   "cell_type": "code",
   "execution_count": null,
   "metadata": {
    "id": "GPum_9bigPYc"
   },
   "outputs": [],
   "source": [
    "# Copying product names to the missing description values for the same row, in case we want to use the description column at some point.\n",
    "# The 7 rows that previously had missing information for \"desc\" have not been deleted, because of the above copying step\n",
    "\n",
    "products.loc[products['desc'].isna(), 'desc'] = products.loc[products['desc'].isna(), 'name']"
   ]
  },
  {
   "cell_type": "code",
   "execution_count": null,
   "metadata": {
    "colab": {
     "base_uri": "https://localhost:8080/"
    },
    "executionInfo": {
     "elapsed": 381,
     "status": "ok",
     "timestamp": 1732096259071,
     "user": {
      "displayName": "Edicta Grullon",
      "userId": "06564017274082352377"
     },
     "user_tz": -60
    },
    "id": "VJokrbVCuNCa",
    "outputId": "7afcb5f5-86d2-418b-c50f-ab9247fc2586"
   },
   "outputs": [],
   "source": [
    "products.info()"
   ]
  },
  {
   "cell_type": "code",
   "execution_count": null,
   "metadata": {
    "id": "fyX16l8mkYGl"
   },
   "outputs": [],
   "source": [
    "# Deleting price rows with missing values\n",
    "products.dropna(subset=['price'], inplace=True)\n",
    "# Alternative: products = products.loc[~products.price.isna(), :]"
   ]
  },
  {
   "cell_type": "code",
   "execution_count": null,
   "metadata": {},
   "outputs": [],
   "source": [
    "# Check again for missing values in our 3 DataFrames\n",
    "# orders[orders.isna().any(axis=1)]\n",
    "orderlines[orderlines.isna().any(axis=1)]\n",
    "# products[products.isna().any(axis=1)]"
   ]
  },
  {
   "cell_type": "code",
   "execution_count": null,
   "metadata": {
    "colab": {
     "base_uri": "https://localhost:8080/"
    },
    "executionInfo": {
     "elapsed": 11,
     "status": "ok",
     "timestamp": 1732096259071,
     "user": {
      "displayName": "Edicta Grullon",
      "userId": "06564017274082352377"
     },
     "user_tz": -60
    },
    "id": "vCE1o3ZavvDA",
    "outputId": "a6b24306-835f-43de-df9b-08b55b1cd731"
   },
   "outputs": [],
   "source": [
    "products.info()"
   ]
  },
  {
   "cell_type": "markdown",
   "metadata": {
    "id": "HeVEIABYrFXu"
   },
   "source": [
    "## Removal of two-dot problem (and column \"promo_price\")"
   ]
  },
  {
   "cell_type": "markdown",
   "metadata": {
    "id": "OrzrbS_tt3uh"
   },
   "source": [
    "### Removal from orderlines DataFrame"
   ]
  },
  {
   "cell_type": "code",
   "execution_count": null,
   "metadata": {
    "colab": {
     "base_uri": "https://localhost:8080/"
    },
    "executionInfo": {
     "elapsed": 17,
     "status": "ok",
     "timestamp": 1732096259373,
     "user": {
      "displayName": "Edicta Grullon",
      "userId": "06564017274082352377"
     },
     "user_tz": -60
    },
    "id": "QKQhzHACcdrt",
    "outputId": "61f9431c-33f0-4bb0-b5bf-0deb14deaba4"
   },
   "outputs": [],
   "source": [
    "# That gives you an value error: Unable to parse string \"1.137.99\" (two-dot problem)\n",
    "orderlines[\"unit_price\"] = pd.to_numeric(orderlines[\"unit_price\"])"
   ]
  },
  {
   "cell_type": "code",
   "execution_count": null,
   "metadata": {},
   "outputs": [],
   "source": [
    "# Check how many rows are affected by the problem\n",
    "orderlines.unit_price.str.contains(r\"\\d+\\.\\d+\\.\\d+\").value_counts() # > 36.169 rows are affected"
   ]
  },
  {
   "cell_type": "code",
   "execution_count": null,
   "metadata": {},
   "outputs": [],
   "source": [
    "# Work out how much that is as a percentage of total data --> 12,3 %\n",
    "two_dot_percentage = ((orderlines.unit_price.str.contains(r\"\\d+\\.\\d+\\.\\d+\").value_counts().iloc[1] / orderlines.shape[0])*100).round(2)\n",
    "print(f\"The 2 dot problem represents {two_dot_percentage}% of the rows in our DataFrame\")"
   ]
  },
  {
   "cell_type": "code",
   "execution_count": null,
   "metadata": {
    "id": "9F_hniJjuBdh"
   },
   "outputs": [],
   "source": [
    "# Find the order numbers associated with the rows that have 2 decimal points, and then remove all the associated rows\n",
    "two_dot_order_ids_list = orderlines.loc[orderlines.unit_price.str.contains(r\"\\d+\\.\\d+\\.\\d+\"), \"id_order\"]\n",
    "orderlines = orderlines.loc[~orderlines.id_order.isin(two_dot_order_ids_list)]\n",
    "orderlines"
   ]
  },
  {
   "cell_type": "code",
   "execution_count": null,
   "metadata": {
    "colab": {
     "base_uri": "https://localhost:8080/"
    },
    "executionInfo": {
     "elapsed": 17,
     "status": "ok",
     "timestamp": 1732096259372,
     "user": {
      "displayName": "Edicta Grullon",
      "userId": "06564017274082352377"
     },
     "user_tz": -60
    },
    "id": "oDh6qXCtuMnU",
    "outputId": "57d67a7d-6862-437f-c393-525b26b915dc"
   },
   "outputs": [],
   "source": [
    "# After deleting there are 216250 rows without a two-dot problem\n",
    "orderlines.shape[0]"
   ]
  },
  {
   "cell_type": "markdown",
   "metadata": {
    "id": "uswRFE6gtxJP"
   },
   "source": [
    "### Removals from products DataFrame"
   ]
  },
  {
   "cell_type": "code",
   "execution_count": null,
   "metadata": {},
   "outputs": [],
   "source": [
    "# Check if there are any other numbers like this:\n",
    "products.price.str.contains(r\"\\d+\\.\\d+\\.\\d+\").value_counts()"
   ]
  },
  {
   "cell_type": "code",
   "execution_count": null,
   "metadata": {
    "colab": {
     "base_uri": "https://localhost:8080/"
    },
    "executionInfo": {
     "elapsed": 15,
     "status": "ok",
     "timestamp": 1732096259373,
     "user": {
      "displayName": "Edicta Grullon",
      "userId": "06564017274082352377"
     },
     "user_tz": -60
    },
    "id": "42LbN1WkowT_",
    "outputId": "9fa484fd-a1f3-48db-c6f6-baed6fffd37f"
   },
   "outputs": [],
   "source": [
    "# Looking at how many rows in products (column \"price\") have the two-dot problem = 542\n",
    "price_problems_number = products.loc[(products.price.astype(str).str.contains(r\"\\d+\\.\\d+\\.\\d+\"))|(products.price.astype(str).str.contains(r\"\\d+\\.\\d{3,}\")), :].shape[0]\n",
    "price_problems_number"
   ]
  },
  {
   "cell_type": "code",
   "execution_count": null,
   "metadata": {},
   "outputs": [],
   "source": [
    "# Looking at how many rows in products (column \"price\") have the two-dot problem = 542\n",
    "price_problems_number = products.loc[(products.price.astype(str).str.contains(r\"\\d+\\.\\d+\\.\\d+\"))].shape[0]\n",
    "price_problems_number"
   ]
  },
  {
   "cell_type": "code",
   "execution_count": null,
   "metadata": {
    "id": "2cThsKbTrgdU"
   },
   "outputs": [],
   "source": [
    "# Removing the problem from products\n",
    "products = products.loc[(~products.price.astype(str).str.contains(r\"\\d+\\.\\d+\\.\\d+\"))&(~products.price.astype(str).str.contains(r\"\\d+\\.\\d{3,}\")), :]"
   ]
  },
  {
   "cell_type": "code",
   "execution_count": null,
   "metadata": {
    "colab": {
     "base_uri": "https://localhost:8080/"
    },
    "executionInfo": {
     "elapsed": 11,
     "status": "ok",
     "timestamp": 1732096259373,
     "user": {
      "displayName": "Edicta Grullon",
      "userId": "06564017274082352377"
     },
     "user_tz": -60
    },
    "id": "eOyBZQMtpMpE",
    "outputId": "adbb160e-41ce-4f40-cb19-27419efd7c30"
   },
   "outputs": [],
   "source": [
    "# Original count was 10580 - 588 removed = 9992 now\n",
    "products.info()"
   ]
  },
  {
   "cell_type": "code",
   "execution_count": null,
   "metadata": {
    "colab": {
     "base_uri": "https://localhost:8080/"
    },
    "executionInfo": {
     "elapsed": 9,
     "status": "ok",
     "timestamp": 1732096259373,
     "user": {
      "displayName": "Edicta Grullon",
      "userId": "06564017274082352377"
     },
     "user_tz": -60
    },
    "id": "wFmaoJsTs8ma",
    "outputId": "2e7e64db-0f2c-4cec-a3a9-e4ba86c0cb05"
   },
   "outputs": [],
   "source": [
    "# Looking at how many rows in products (column \"promo_price\") have the two-dot problem  = 9232\n",
    "promo_problems_number = products.loc[(products.promo_price.astype(str).str.contains(r\"\\d+\\.\\d+\\.\\d+\"))|(products.promo_price.astype(str).str.contains(r\"\\d+\\.\\d{3,}\")), :].shape[0]\n",
    "promo_problems_number"
   ]
  },
  {
   "cell_type": "code",
   "execution_count": null,
   "metadata": {
    "colab": {
     "base_uri": "https://localhost:8080/"
    },
    "executionInfo": {
     "elapsed": 6,
     "status": "ok",
     "timestamp": 1732096259373,
     "user": {
      "displayName": "Edicta Grullon",
      "userId": "06564017274082352377"
     },
     "user_tz": -60
    },
    "id": "e6PPJWq7qlUY",
    "outputId": "2495fc51-0223-4814-b247-4403f365abed"
   },
   "outputs": [],
   "source": [
    "# Over 90% of the values in promo_price are two-dotted\n",
    "print(f\"The column promo_price has in total {promo_problems_number} wrong values. This is {round(((promo_problems_number / products.shape[0]) * 100), 2)}% of the rows of the DataFrame\")"
   ]
  },
  {
   "cell_type": "code",
   "execution_count": null,
   "metadata": {
    "id": "lAV-CRI7tNLj"
   },
   "outputs": [],
   "source": [
    "# As over 90% of the data in the column is corrupt, complete column will be deleted\n",
    "\n",
    "# Completely deleting promo_price column\n",
    "products = products.drop(columns=[\"promo_price\"])"
   ]
  },
  {
   "cell_type": "markdown",
   "metadata": {
    "id": "rdLT79wbiNE3"
   },
   "source": [
    "## Removal of unwanted order states"
   ]
  },
  {
   "cell_type": "code",
   "execution_count": null,
   "metadata": {
    "colab": {
     "base_uri": "https://localhost:8080/",
     "height": 211
    },
    "executionInfo": {
     "elapsed": 301,
     "status": "error",
     "timestamp": 1732105550297,
     "user": {
      "displayName": "Edicta Grullon",
      "userId": "06564017274082352377"
     },
     "user_tz": -60
    },
    "id": "WncCSVKEjmuR",
    "outputId": "d096aae7-9549-4d90-ce8b-c5ae1f7107d8"
   },
   "outputs": [],
   "source": [
    "# Making copies\n",
    "o_df = orders.copy()\n",
    "ol_df = orderlines.copy()\n",
    "p_df = products.copy()\n",
    "b_df = brands.copy()"
   ]
  },
  {
   "cell_type": "code",
   "execution_count": null,
   "metadata": {
    "id": "ycv2ptoHiXh0"
   },
   "outputs": [],
   "source": [
    "# Changing datatype\n",
    "o_df[\"created_date\"] = pd.to_datetime(o_df[\"created_date\"])\n",
    "ol_df[\"date\"] = pd.to_datetime(ol_df[\"date\"])"
   ]
  },
  {
   "cell_type": "code",
   "execution_count": null,
   "metadata": {
    "colab": {
     "base_uri": "https://localhost:8080/",
     "height": 423
    },
    "executionInfo": {
     "elapsed": 270,
     "status": "ok",
     "timestamp": 1732105602118,
     "user": {
      "displayName": "Edicta Grullon",
      "userId": "06564017274082352377"
     },
     "user_tz": -60
    },
    "id": "6jRVm9kL3Sbe",
    "outputId": "2a01cc79-b2b7-4f53-e954-5c8f2c85a7be"
   },
   "outputs": [],
   "source": [
    "# Checking count per 'state':\n",
    "\n",
    "# 7233 rows are \"cancelled\" only\n",
    "# o_df[o_df['state'].str.contains('cancelled', case=False, na=False)]\n",
    "\n",
    "# 117809 rows are \"shopping basket\" only\n",
    "# o_df[o_df['state'].str.contains('shopping basket', case=False, na=False)]\n",
    "\n",
    "# 14374 rows are \"pending\" only\n",
    "# o_df[o_df['state'].str.contains('pending', case=False, na=False)]\n",
    "\n",
    "# 40883 rows are \"place order\" only\n",
    "# o_df[o_df['state'].str.contains('place order', case=False, na=False)]\n",
    "\n",
    "# 46605 rows are \"completed\" only\n",
    "# o_df[o_df['state'].str.contains('completed', case=False, na=False)]"
   ]
  },
  {
   "cell_type": "code",
   "execution_count": null,
   "metadata": {
    "id": "0vp9EwYpie6L"
   },
   "outputs": [],
   "source": [
    "# Keeping only rows with value \"Completed\" for column \"state\"\n",
    "# Original number of rows before filtering: 226904\n",
    "# Updated number of rows after filtering: 46605\n",
    "\n",
    "o_df = o_df[o_df['state'] == 'Completed']"
   ]
  },
  {
   "cell_type": "code",
   "execution_count": null,
   "metadata": {
    "colab": {
     "base_uri": "https://localhost:8080/"
    },
    "executionInfo": {
     "elapsed": 383,
     "status": "ok",
     "timestamp": 1732096405857,
     "user": {
      "displayName": "Edicta Grullon",
      "userId": "06564017274082352377"
     },
     "user_tz": -60
    },
    "id": "pNhpxC_Q43gO",
    "outputId": "c565b93b-93ab-4e99-ccc2-0f2d7dae291b"
   },
   "outputs": [],
   "source": [
    "o_df.shape"
   ]
  },
  {
   "cell_type": "markdown",
   "metadata": {
    "id": "jPC-1Qtzj4GF"
   },
   "source": [
    "## Keeping only orders present in both orders and orderlines"
   ]
  },
  {
   "cell_type": "code",
   "execution_count": null,
   "metadata": {
    "id": "oEofl-IJii6J"
   },
   "outputs": [],
   "source": [
    "orders_orderlines = o_df.merge(ol_df,\n",
    "                left_on ='order_id',\n",
    "                right_on ='id_order',\n",
    "                how ='inner')"
   ]
  },
  {
   "cell_type": "code",
   "execution_count": null,
   "metadata": {
    "colab": {
     "base_uri": "https://localhost:8080/"
    },
    "executionInfo": {
     "elapsed": 6,
     "status": "ok",
     "timestamp": 1732095977526,
     "user": {
      "displayName": "Edicta Grullon",
      "userId": "06564017274082352377"
     },
     "user_tz": -60
    },
    "id": "3QF4PlPK4oOi",
    "outputId": "36c01766-6050-492f-f15f-0474f6c2367b"
   },
   "outputs": [],
   "source": [
    "# 56714 = original number of rows before removing order_id rows missing from the products table\n",
    "orders_orderlines.shape"
   ]
  },
  {
   "cell_type": "code",
   "execution_count": null,
   "metadata": {
    "id": "ZJqxR3jLjce9"
   },
   "outputs": [],
   "source": [
    "order_ids = orders_orderlines['order_id'].unique()"
   ]
  },
  {
   "cell_type": "code",
   "execution_count": null,
   "metadata": {
    "id": "11fL451ojefk"
   },
   "outputs": [],
   "source": [
    "# Keeping only the common order_ids in orders\n",
    "o_df = o_df[o_df[\"order_id\"].isin(order_ids)]\n",
    "\n",
    "# Keeping only the common order_ids in orderlines\n",
    "ol_df = ol_df[ol_df[\"id_order\"].isin(order_ids)]"
   ]
  },
  {
   "cell_type": "code",
   "execution_count": null,
   "metadata": {
    "colab": {
     "base_uri": "https://localhost:8080/"
    },
    "executionInfo": {
     "elapsed": 295,
     "status": "ok",
     "timestamp": 1732095977818,
     "user": {
      "displayName": "Edicta Grullon",
      "userId": "06564017274082352377"
     },
     "user_tz": -60
    },
    "id": "_Tc7Y39rjgvB",
    "outputId": "8e354327-52b4-4702-a066-9607dab59d46"
   },
   "outputs": [],
   "source": [
    "# Orders and orderlines now have same amount of unique order_ids\n",
    "o_df[\"order_id\"].nunique(), ol_df[\"id_order\"].nunique()"
   ]
  },
  {
   "cell_type": "markdown",
   "metadata": {
    "id": "S3Oi0QtvnJ-p"
   },
   "source": [
    "## Removal of unknown products"
   ]
  },
  {
   "cell_type": "code",
   "execution_count": null,
   "metadata": {
    "colab": {
     "base_uri": "https://localhost:8080/",
     "height": 362
    },
    "executionInfo": {
     "elapsed": 9,
     "status": "ok",
     "timestamp": 1732095977818,
     "user": {
      "displayName": "Edicta Grullon",
      "userId": "06564017274082352377"
     },
     "user_tz": -60
    },
    "id": "bHO0XjIknJjl",
    "outputId": "a2bdd98c-a079-4217-da83-1e34467f3694"
   },
   "outputs": [],
   "source": [
    "orderlines_products = ol_df.merge(p_df, how=\"left\", on = \"sku\")[[\"id_order\",\"sku\",\"name\" ]]\n",
    "orderlines_products.sample(10)"
   ]
  },
  {
   "cell_type": "code",
   "execution_count": null,
   "metadata": {
    "colab": {
     "base_uri": "https://localhost:8080/"
    },
    "executionInfo": {
     "elapsed": 7,
     "status": "ok",
     "timestamp": 1732095977818,
     "user": {
      "displayName": "Edicta Grullon",
      "userId": "06564017274082352377"
     },
     "user_tz": -60
    },
    "id": "XBNh76U_niez",
    "outputId": "6dea24a4-ac40-4946-cfce-ecc3bf12b2df"
   },
   "outputs": [],
   "source": [
    "orders_to_delete = orderlines_products.loc[orderlines_products.name.isna(), \"id_order\"].unique()\n",
    "orders_to_delete"
   ]
  },
  {
   "cell_type": "code",
   "execution_count": null,
   "metadata": {
    "id": "Ip61X1KTn2-Q"
   },
   "outputs": [],
   "source": [
    "# Keeping only the orders in orders that are not corrupted\n",
    "o_df = o_df.loc[~o_df.order_id.isin(orders_to_delete),:]"
   ]
  },
  {
   "cell_type": "code",
   "execution_count": null,
   "metadata": {
    "id": "4IeJLaznn4jS"
   },
   "outputs": [],
   "source": [
    "# Keeping only the orders in orderlines that are not corrupted\n",
    "ol_df = ol_df.loc[~ol_df.id_order.isin(orders_to_delete),:]"
   ]
  },
  {
   "cell_type": "code",
   "execution_count": null,
   "metadata": {
    "colab": {
     "base_uri": "https://localhost:8080/"
    },
    "executionInfo": {
     "elapsed": 309,
     "status": "ok",
     "timestamp": 1732095978123,
     "user": {
      "displayName": "Edicta Grullon",
      "userId": "06564017274082352377"
     },
     "user_tz": -60
    },
    "id": "78wf-2I-oFLJ",
    "outputId": "0b2f1a5d-66d3-4f59-dd6b-d11fc52f7a85"
   },
   "outputs": [],
   "source": [
    "o_df[\"order_id\"].nunique(), ol_df[\"id_order\"].nunique()"
   ]
  },
  {
   "cell_type": "markdown",
   "metadata": {
    "id": "ShkCIdHzkBIE"
   },
   "source": [
    "## Removal of outliers"
   ]
  },
  {
   "cell_type": "code",
   "execution_count": null,
   "metadata": {},
   "outputs": [],
   "source": [
    "ol_agg_o.info()"
   ]
  },
  {
   "cell_type": "code",
   "execution_count": null,
   "metadata": {},
   "outputs": [],
   "source": [
    "ol_df[\"unit_price\"] = pd.to_numeric(ol_df[\"unit_price\"])"
   ]
  },
  {
   "cell_type": "code",
   "execution_count": null,
   "metadata": {
    "colab": {
     "base_uri": "https://localhost:8080/"
    },
    "executionInfo": {
     "elapsed": 17,
     "status": "ok",
     "timestamp": 1732095978123,
     "user": {
      "displayName": "Edicta Grullon",
      "userId": "06564017274082352377"
     },
     "user_tz": -60
    },
    "id": "CxWkoQoQXL0d",
    "outputId": "1bd66e5b-22a4-438d-a269-c14b36595cfa"
   },
   "outputs": [],
   "source": [
    "# Creating a new column with values of the other two tables multiplied\n",
    "ol_df['unit_price_total'] = ol_df['unit_price'] * ol_df['product_quantity']"
   ]
  },
  {
   "cell_type": "code",
   "execution_count": null,
   "metadata": {
    "id": "1kKKHoXtXBWJ"
   },
   "outputs": [],
   "source": [
    "ol_agg = ol_df.groupby(\"id_order\", as_index=False)[\"unit_price_total\"].sum()"
   ]
  },
  {
   "cell_type": "code",
   "execution_count": null,
   "metadata": {
    "id": "TWK1wF-QWxBr"
   },
   "outputs": [],
   "source": [
    "ol_agg_o = ol_agg.merge(o_df, left_on=\"id_order\", right_on=\"order_id\")"
   ]
  },
  {
   "cell_type": "code",
   "execution_count": null,
   "metadata": {
    "id": "sdhA3uCyW2h1"
   },
   "outputs": [],
   "source": [
    "ol_agg_o_dif = ol_agg_o.copy()"
   ]
  },
  {
   "cell_type": "code",
   "execution_count": null,
   "metadata": {},
   "outputs": [],
   "source": [
    "ol_df[\"unit_price_total\"] = pd.to_numeric(ol_df[\"unit_price_total\"])"
   ]
  },
  {
   "cell_type": "code",
   "execution_count": null,
   "metadata": {
    "id": "WHL9kxVTXatZ"
   },
   "outputs": [],
   "source": [
    "# Difference between total_paid and unit_price_total\n",
    "ol_agg_o_dif[\"order_price_dif\"] = ol_agg_o[\"total_paid\"] - ol_agg_o[\"unit_price_total\"]"
   ]
  },
  {
   "cell_type": "code",
   "execution_count": null,
   "metadata": {
    "id": "gWc97mgdkGlb"
   },
   "outputs": [],
   "source": [
    "# Removing outliers from ol_agg_o_diff (orderlines aggregated and merged with orders, dif between total_price and unit_price_total)\n",
    "\n",
    "# Calculating Q1 (25th percentile) and Q3 (75th percentile)\n",
    "Q1 = ol_agg_o_dif[\"order_price_dif\"].quantile(0.25)\n",
    "Q3 = ol_agg_o_dif[\"order_price_dif\"].quantile(0.75)\n",
    "IQR = Q3 - Q1\n",
    "\n",
    "# Defining the outlier range\n",
    "lower_bound = Q1 - 1.5 * IQR\n",
    "upper_bound = Q3 + 1.5 * IQR\n",
    "\n",
    "# Filtering the DataFrame to remove outliers\n",
    "ol_agg_o_dif_no_outliers = ol_agg_o_dif[(ol_agg_o_dif[\"order_price_dif\"] >= lower_bound) & (ol_agg_o_dif[\"order_price_dif\"] <= upper_bound)]"
   ]
  },
  {
   "cell_type": "code",
   "execution_count": null,
   "metadata": {
    "id": "Hxd4OtTakOVi"
   },
   "outputs": [],
   "source": [
    "# Removing the outliers' unique order_id/id_order from orders as well as from orderlines_products merged DataFrame.\n",
    "normal_diff_list = ol_agg_o_dif_no_outliers[\"id_order\"]"
   ]
  },
  {
   "cell_type": "code",
   "execution_count": null,
   "metadata": {
    "id": "JIGhUnQAkP97"
   },
   "outputs": [],
   "source": [
    "o_df = o_df[o_df[\"order_id\"].isin(normal_diff_list)]"
   ]
  },
  {
   "cell_type": "code",
   "execution_count": null,
   "metadata": {
    "id": "r69ovqiAfHdI"
   },
   "outputs": [],
   "source": [
    "ol_df = ol_df[ol_df[\"id_order\"].isin(normal_diff_list)]"
   ]
  },
  {
   "cell_type": "code",
   "execution_count": null,
   "metadata": {
    "colab": {
     "base_uri": "https://localhost:8080/"
    },
    "executionInfo": {
     "elapsed": 12,
     "status": "ok",
     "timestamp": 1732095978124,
     "user": {
      "displayName": "Edicta Grullon",
      "userId": "06564017274082352377"
     },
     "user_tz": -60
    },
    "id": "gUmuKTLZkRjB",
    "outputId": "20142025-8e17-4ee8-d876-3bae5545545e"
   },
   "outputs": [],
   "source": [
    "# 40985, 40985\n",
    "o_df[\"order_id\"].nunique(), ol_df[\"id_order\"].nunique()"
   ]
  },
  {
   "cell_type": "code",
   "execution_count": null,
   "metadata": {
    "colab": {
     "base_uri": "https://localhost:8080/"
    },
    "executionInfo": {
     "elapsed": 9,
     "status": "ok",
     "timestamp": 1732095978124,
     "user": {
      "displayName": "Edicta Grullon",
      "userId": "06564017274082352377"
     },
     "user_tz": -60
    },
    "id": "PmiRaAmS8vgN",
    "outputId": "6a1dcea6-7d0a-4f74-fab1-ac70de36a93f"
   },
   "outputs": [],
   "source": [
    "p_df.info()"
   ]
  },
  {
   "cell_type": "markdown",
   "metadata": {},
   "source": [
    "# History of data cleaning"
   ]
  },
  {
   "cell_type": "code",
   "execution_count": 1,
   "metadata": {},
   "outputs": [
    {
     "data": {
      "image/png": "[encoded data removed]",
      "text/plain": [
       "<Figure size 1000x600 with 1 Axes>"
      ]
     },
     "metadata": {},
     "output_type": "display_data"
    }
   ],
   "source": [
    "import matplotlib.pyplot as plt\n",
    "\n",
    "# Data cleaning data\n",
    "datasets = {\n",
    "    'Orders': [226909, 226909, 226904, 226904, 46605, 43064, 41701, 40985],\n",
    "    'Orderlines': [293983, 293983, 293983, 216250, 216250, 56714, 54324, 53231],\n",
    "    'Products': [19326, 10580, 10534, 9992, 9992, 9992, 9992, 9992],\n",
    "    'Brands': [187, 187, 187, 187, 187, 187, 187, 187]\n",
    "}\n",
    "\n",
    "plt.figure(figsize=(10, 6))\n",
    "for dataset_name, values in datasets.items():\n",
    "    plt.plot(range(1, len(values) + 1), values, marker='o', label=dataset_name)\n",
    "\n",
    "plt.title('Changing the number of rows during data cleaning')\n",
    "plt.xlabel('Step')\n",
    "plt.ylabel('Remaining rows')\n",
    "plt.xticks(range(1, 9), labels=[f\"Step {i}\" for i in range(1, 9)])\n",
    "plt.legend()\n",
    "plt.tight_layout()\n",
    "ax = plt.gca()\n",
    "ax.spines['top'].set_visible(False)\n",
    "ax.spines['right'].set_visible(False)\n",
    "plt.show()"
   ]
  },
  {
   "cell_type": "markdown",
   "metadata": {},
   "source": [
    "# Save all changes in a CSV file"
   ]
  },
  {
   "cell_type": "code",
   "execution_count": null,
   "metadata": {},
   "outputs": [],
   "source": [
    "# Saving a DataFrame as new .csv-file\n",
    "# Example with options:\n",
    "# dataframe.to_csv(\"dateiname.csv\", sep=\";\", columns=['Name', 'City'], index=False, encoding='utf-8')"
   ]
  },
  {
   "cell_type": "code",
   "execution_count": null,
   "metadata": {
    "id": "3vPEpqjwcE3U"
   },
   "outputs": [],
   "source": [
    "# orders_cleaned.csv\n",
    "o_df = o_df.to_csv('../data/cleaned/orders_cleaned.csv', index=False)\n",
    "\n",
    "# orderlines_cleaned.csv\n",
    "ol_df = ol_df.to_csv('../data/cleaned/orderlines_cleaned.csv', index=False)\n",
    "\n",
    "# orderlines_cleaned.csv\n",
    "p_df = p_df.to_csv('../data/cleaned/products_cleaned.csv', index=False)"
   ]
  }
 ],
 "metadata": {
  "colab": {
   "provenance": []
  },
  "kernelspec": {
   "display_name": "Python 3 (ipykernel)",
   "language": "python",
   "name": "python3"
  },
  "language_info": {
   "codemirror_mode": {
    "name": "ipython",
    "version": 3
   },
   "file_extension": ".py",
   "mimetype": "text/x-python",
   "name": "python",
   "nbconvert_exporter": "python",
   "pygments_lexer": "ipython3",
   "version": "3.12.7"
  }
 },
 "nbformat": 4,
 "nbformat_minor": 4
}
