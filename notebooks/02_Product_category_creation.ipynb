{
 "cells": [
  {
   "cell_type": "markdown",
   "metadata": {
    "id": "bdECuY68IkQW"
   },
   "source": [
    "# Categorisation pre-work"
   ]
  },
  {
   "cell_type": "code",
   "execution_count": null,
   "metadata": {
    "executionInfo": {
     "elapsed": 810,
     "status": "ok",
     "timestamp": 1731954687715,
     "user": {
      "displayName": "Edicta Grullon",
      "userId": "06564017274082352377"
     },
     "user_tz": -60
    },
    "id": "rOIn15JaUaZL"
   },
   "outputs": [],
   "source": [
    "import pandas as pd"
   ]
  },
  {
   "cell_type": "code",
   "execution_count": null,
   "metadata": {
    "executionInfo": {
     "elapsed": 3663,
     "status": "ok",
     "timestamp": 1731954693365,
     "user": {
      "displayName": "Edicta Grullon",
      "userId": "06564017274082352377"
     },
     "user_tz": -60
    },
    "id": "rgNXJL8bUfHC"
   },
   "outputs": [],
   "source": [
    "# Products_cleaned.csv (using the cleaned-up DataFrame from 01_Data_exploration_cleaning.ipynb)\n",
    "products_cleaned = pd.read_csv('../data/cleaned/products_cleaned.csv')"
   ]
  },
  {
   "cell_type": "code",
   "execution_count": null,
   "metadata": {
    "executionInfo": {
     "elapsed": 322,
     "status": "ok",
     "timestamp": 1731954695175,
     "user": {
      "displayName": "Edicta Grullon",
      "userId": "06564017274082352377"
     },
     "user_tz": -60
    },
    "id": "Tc4_7SfAUhiU"
   },
   "outputs": [],
   "source": [
    "product_category = products_cleaned.copy()"
   ]
  },
  {
   "cell_type": "code",
   "execution_count": null,
   "metadata": {
    "colab": {
     "base_uri": "https://localhost:8080/",
     "height": 80
    },
    "executionInfo": {
     "elapsed": 664,
     "status": "ok",
     "timestamp": 1731954698244,
     "user": {
      "displayName": "Edicta Grullon",
      "userId": "06564017274082352377"
     },
     "user_tz": -60
    },
    "id": "i4WlYSxsUoqU",
    "outputId": "4e086a30-b0e2-429b-c5f2-2a1ae4e3a26f"
   },
   "outputs": [],
   "source": [
    "# Adding new columns and verifying the change\n",
    "product_category[\"category\"] = \"\"\n",
    "product_category[\"sub-category\"] = \"\"\n",
    "product_category[\"condition\"] = \"\"\n",
    "product_category.head(1)"
   ]
  },
  {
   "cell_type": "markdown",
   "metadata": {
    "id": "WorzkfhGxRzA"
   },
   "source": [
    "# Dictionaries as categories\n",
    "<i>After searching the products and product types, the products were assigned to the respective categories and sub-categories (see in the Excel file: ../docs/Product_type_categories_schema.xlsx)</i>"
   ]
  },
  {
   "cell_type": "code",
   "execution_count": null,
   "metadata": {
    "executionInfo": {
     "elapsed": 278,
     "status": "ok",
     "timestamp": 1731954701635,
     "user": {
      "displayName": "Edicta Grullon",
      "userId": "06564017274082352377"
     },
     "user_tz": -60
    },
    "id": "yz8ayFGCjfYs"
   },
   "outputs": [],
   "source": [
    "sub_categories_dict = {\n",
    "'12585395': \"Adapter\",\n",
    "'5395': \"Adapter\",\n",
    "'14365395': \"Adapter\",\n",
    "'11434': \"Adapter\",\n",
    "'1325': \"Adapter\",\n",
    "'1230': \"Adapter\",\n",
    "'13955395': \"Adapter\",\n",
    "'1231': \"Apple Care Protection Plan\",\n",
    "'4259': \"Apple TV\",\n",
    "'113464259': \"Apple TV\",\n",
    "'24885185': \"Apple Watch\",\n",
    "'24895185': \"Apple Watch\",\n",
    "'5185': \"Apple Watch\",\n",
    "'2449': \"Armband\",\n",
    "'5405': \"Armband\",\n",
    "'5,49E+11': \"Batteries\",\n",
    "'1515': \"Batteries\",\n",
    "'10142': \"Batteries\",\n",
    "'9094': \"Cam & Video\",\n",
    "'1392': \"Cases\",\n",
    "'10230': \"Cases\",\n",
    "'12575403': \"Cases\",\n",
    "'5403': \"Cases\",\n",
    "'12635403': \"Cases\",\n",
    "'13835403': \"Cases\",\n",
    "'11865403': \"Cases\",\n",
    "'13615399': \"Chargers\",\n",
    "'13005399': \"Chargers\",\n",
    "'5399': \"Chargers\",\n",
    "'24215399': \"Stands & Docks\",\n",
    "'1216': \"Stands & Docks\",\n",
    "'5720': \"Stands & Docks\",\n",
    "'1405': \"Graphic tablets\",\n",
    "'11935397': \"Harddrives\",\n",
    "'12655397': \"Harddrives\",\n",
    "'12215397': \"Harddrives\",\n",
    "'5384': \"Headphones & Headsets\",\n",
    "'2,16E+11': \"iMac\",\n",
    "'5,74E+15': \"iMac\",\n",
    "'118692158': \"iMac\",\n",
    "'13855401': \"iMac\",\n",
    "'12141714': \"iMac\",\n",
    "'1714': \"iMac\",\n",
    "'51861714': \"iMac\",\n",
    "'5,44E+11': \"iMac\",\n",
    "'21622158': \"iMac\",\n",
    "'5,45E+15': \"iMac\",\n",
    "'5,43E+15': \"iMac\",\n",
    "'51882158': \"iMac\",\n",
    "'5,72E+15': \"iMac\",\n",
    "'13621714': \"iPad\",\n",
    "'51871714': \"iPad\",\n",
    "'42931714': \"iPad\",\n",
    "'24861714': \"iPad\",\n",
    "'12031714': \"iPad\",\n",
    "'12051714': \"iPad\",\n",
    "'113851714': \"iPad\",\n",
    "'106431714': \"iPad\",\n",
    "'1716': \"iPhone\",\n",
    "'85651716': \"iPhone\",\n",
    "'85641716': \"iPhone\",\n",
    "'24821716': \"iPhone\",\n",
    "'24811716': \"iPhone\",\n",
    "'113281716': \"iPhone\",\n",
    "'113291716': \"iPhone\",\n",
    "'21571716': \"iPhone\",\n",
    "'21561716': \"iPhone\",\n",
    "'113271716': \"iPhone\",\n",
    "'51601716': \"iPhone\",\n",
    "'11821715': \"iPod\",\n",
    "'79201715': \"iPod\",\n",
    "'5401': \"Keyboard\",\n",
    "'54025401': \"Keyboard\",\n",
    "'2,17E+11': \"Keyboard\",\n",
    "'21632158': \"Mac Pro\",\n",
    "'1282': \"MacBook\",\n",
    "'5,39E+11': \"MacBook\",\n",
    "'1,02E+12': \"MacBook\",\n",
    "'2158': \"MacBook\",\n",
    "'9,29E+11': \"MacBook\",\n",
    "'51912158': \"MacBook\",\n",
    "'51902158': \"MacBook\",\n",
    "'1276': \"Memory\",\n",
    "'42945397': \"Memory\",\n",
    "'57445397': \"Memory\",\n",
    "'1364': \"Memory\",\n",
    "'1433': \"Memory\",\n",
    "'1375': \"Microphone\",\n",
    "'1298': \"Mixed\",\n",
    "'11905404': \"Mixed\",\n",
    "'12995397': \"Mixed\",\n",
    "'1404': \"Mixed\",\n",
    "'12355400': \"Mixed\",\n",
    "'5404': \"Mixed\",\n",
    "'101781405': \"Mixed\",\n",
    "'1424': \"Mixed\",\n",
    "'54085407': \"Mixed\",\n",
    "'12085400': \"Mixed\",\n",
    "'12285400': \"Mixed\",\n",
    "'15435404': \"Mixed\",\n",
    "'1296': \"Monitor\",\n",
    "'1387': \"Mouses\",\n",
    "'1229': \"Pens & Pointer\",\n",
    "'2434': \"Protectors\",\n",
    "'13555403': \"Protectors\",\n",
    "'14035403': \"Protectors\",\n",
    "'2425': \"Protectors\",\n",
    "'1280': \"Rack\",\n",
    "'54864259': \"Remote\",\n",
    "'12755395': \"Repair\",\n",
    "'20642062': \"Repair\",\n",
    "'5407': \"Repair\",\n",
    "'21535407': \"Repair\",\n",
    "'1,44E+11': \"Repair\",\n",
    "'5406': \"Repair\",\n",
    "'21485407': \"Repair\",\n",
    "'14305406': \"Repair\",\n",
    "'12645406': \"Repair\",\n",
    "'11859': \"Sensor\",\n",
    "'12175397': \"Servers\",\n",
    "'1416': \"Software\",\n",
    "'5398': \"Speakers\",\n",
    "'8696': \"Stands & Docks\",\n",
    "'12282': \"Stands & Docks\",\n",
    "'1334': \"WiFi\"}"
   ]
  },
  {
   "cell_type": "code",
   "execution_count": null,
   "metadata": {
    "executionInfo": {
     "elapsed": 328,
     "status": "ok",
     "timestamp": 1731954706819,
     "user": {
      "displayName": "Edicta Grullon",
      "userId": "06564017274082352377"
     },
     "user_tz": -60
    },
    "id": "lxLxgcGFlNRX"
   },
   "outputs": [],
   "source": [
    "product_category['sub-category'] = product_category['type'].replace(sub_categories_dict)"
   ]
  },
  {
   "cell_type": "code",
   "execution_count": null,
   "metadata": {
    "executionInfo": {
     "elapsed": 402,
     "status": "ok",
     "timestamp": 1731954708340,
     "user": {
      "displayName": "Edicta Grullon",
      "userId": "06564017274082352377"
     },
     "user_tz": -60
    },
    "id": "l6YNLQ9fo2DP"
   },
   "outputs": [],
   "source": [
    "categories_dict={\n",
    "'12585395': \"Accessories\",\n",
    "'5395': \"Accessories\",\n",
    "'14365395': \"Accessories\",\n",
    "'11434': \"Accessories\",\n",
    "'1325': \"Accessories\",\n",
    "'1230': \"Accessories\",\n",
    "'13955395': \"Accessories\",\n",
    "'1231': \"Services\",\n",
    "'4259': \"Media Player\",\n",
    "'113464259': \"Media Player\",\n",
    "'24885185': \"Watch\",\n",
    "'24895185': \"Watch\",\n",
    "'5185': \"Watch\",\n",
    "'2449': \"Accessories\",\n",
    "'5405': \"Accessories\",\n",
    "'5,49E+11': \"Other\",\n",
    "'1515': \"Other\",\n",
    "'10142': \"Other\",\n",
    "'9094': \"Components\",\n",
    "'1392': \"Accessories\",\n",
    "'10230': \"Accessories\",\n",
    "'12575403': \"Accessories\",\n",
    "'5403': \"Accessories\",\n",
    "'12635403': \"Accessories\",\n",
    "'13835403': \"Accessories\",\n",
    "'11865403': \"Accessories\",\n",
    "'13615399': \"Accessories\",\n",
    "'13005399': \"Accessories\",\n",
    "'5399': \"Accessories\",\n",
    "'24215399': \"Accessories\",\n",
    "'1216': \"Accessories\",\n",
    "'5720': \"Accessories\",\n",
    "'1405': \"Tablet\",\n",
    "'11935397': \"Components\",\n",
    "'12655397': \"Components\",\n",
    "'12215397': \"Components\",\n",
    "'5384': \"Components\",\n",
    "'2,16E+11': \"Desktop\",\n",
    "'5,74E+15': \"Desktop\",\n",
    "'118692158': \"Desktop\",\n",
    "'13855401': \"Desktop\",\n",
    "'12141714': \"Desktop\",\n",
    "'1714': \"Desktop\",\n",
    "'51861714': \"Desktop\",\n",
    "'5,44E+11': \"Desktop\",\n",
    "'21622158': \"Desktop\",\n",
    "'5,45E+15': \"Desktop\",\n",
    "'5,43E+15': \"Desktop\",\n",
    "'51882158': \"Desktop\",\n",
    "'5,72E+15': \"Desktop\",\n",
    "'13621714': \"Tablet\",\n",
    "'51871714': \"Tablet\",\n",
    "'42931714': \"Tablet\",\n",
    "'24861714': \"Tablet\",\n",
    "'12031714': \"Tablet\",\n",
    "'12051714': \"Tablet\",\n",
    "'113851714': \"Tablet\",\n",
    "'106431714': \"Tablet\",\n",
    "'1716': \"Smartphone\",\n",
    "'85651716': \"Smartphone\",\n",
    "'85641716': \"Smartphone\",\n",
    "'24821716': \"Smartphone\",\n",
    "'24811716': \"Smartphone\",\n",
    "'113281716': \"Smartphone\",\n",
    "'113291716': \"Smartphone\",\n",
    "'21571716': \"Smartphone\",\n",
    "'21561716': \"Smartphone\",\n",
    "'113271716': \"Smartphone\",\n",
    "'51601716': \"Smartphone\",\n",
    "'11821715': \"Media Player\",\n",
    "'79201715': \"Media Player\",\n",
    "'5401': \"Components\",\n",
    "'54025401': \"Components\",\n",
    "'2,17E+11': \"Components\",\n",
    "'21632158': \"Desktop\",\n",
    "'1282': \"Laptop\",\n",
    "'5,39E+11': \"Laptop\",\n",
    "'1,02E+12': \"Laptop\",\n",
    "'2158': \"Laptop\",\n",
    "'9,29E+11': \"Laptop\",\n",
    "'51912158': \"Laptop\",\n",
    "'51902158': \"Laptop\",\n",
    "'1276': \"Components\",\n",
    "'42945397': \"Components\",\n",
    "'57445397': \"Components\",\n",
    "'1364': \"Components\",\n",
    "'1433': \"Components\",\n",
    "'1375': \"Components\",\n",
    "'1298': \"Other\",\n",
    "'11905404': \"Other\",\n",
    "'12995397': \"Other\",\n",
    "'1404': \"Other\",\n",
    "'12355400': \"Other\",\n",
    "'5404': \"Other\",\n",
    "'101781405': \"Other\",\n",
    "'1424': \"Other\",\n",
    "'54085407': \"Other\",\n",
    "'12085400': \"Other\",\n",
    "'12285400': \"Other\",\n",
    "'15435404': \"Other\",\n",
    "'1296': \"Components\",\n",
    "'1387': \"Components\",\n",
    "'1229': \"Other\",\n",
    "'2434': \"Accessories\",\n",
    "'13555403': \"Accessories\",\n",
    "'14035403': \"Accessories\",\n",
    "'2425': \"Accessories\",\n",
    "'1280': \"Accessories\",\n",
    "'54864259': \"Components\",\n",
    "'12755395': \"Services\",\n",
    "'20642062': \"Services\",\n",
    "'5407': \"Services\",\n",
    "'21535407': \"Services\",\n",
    "'1,44E+11': \"Services\",\n",
    "'5406': \"Services\",\n",
    "'21485407': \"Services\",\n",
    "'14305406': \"Services\",\n",
    "'12645406': \"Services\",\n",
    "'11859': \"Security\",\n",
    "'12175397': \"Components\",\n",
    "'1416': \"Software\",\n",
    "'5398': \"Components\",\n",
    "'8696': \"Accessories\",\n",
    "'12282': \"Accessories\",\n",
    "'1334': \"WiFi\"}"
   ]
  },
  {
   "cell_type": "code",
   "execution_count": null,
   "metadata": {
    "executionInfo": {
     "elapsed": 376,
     "status": "ok",
     "timestamp": 1731954713195,
     "user": {
      "displayName": "Edicta Grullon",
      "userId": "06564017274082352377"
     },
     "user_tz": -60
    },
    "id": "dSDWo9iQpY7L"
   },
   "outputs": [],
   "source": [
    "product_category['category'] = product_category['type'].replace(categories_dict)"
   ]
  },
  {
   "cell_type": "markdown",
   "metadata": {
    "id": "_Z9T4CTwygFG"
   },
   "source": [
    "# Verifying values"
   ]
  },
  {
   "cell_type": "code",
   "execution_count": null,
   "metadata": {
    "colab": {
     "base_uri": "https://localhost:8080/",
     "height": 536
    },
    "executionInfo": {
     "elapsed": 587,
     "status": "ok",
     "timestamp": 1731954715540,
     "user": {
      "displayName": "Edicta Grullon",
      "userId": "06564017274082352377"
     },
     "user_tz": -60
    },
    "id": "eV07TpPMoH6I",
    "outputId": "80255445-c3be-47b7-bf7d-e818f105dfb8"
   },
   "outputs": [],
   "source": [
    "product_category.head(10)"
   ]
  },
  {
   "cell_type": "code",
   "execution_count": null,
   "metadata": {
    "colab": {
     "base_uri": "https://localhost:8080/",
     "height": 523
    },
    "executionInfo": {
     "elapsed": 260,
     "status": "ok",
     "timestamp": 1731954718399,
     "user": {
      "displayName": "Edicta Grullon",
      "userId": "06564017274082352377"
     },
     "user_tz": -60
    },
    "id": "JLSxRozLJLBC",
    "outputId": "1e838411-09f2-4e50-d94b-9e3cdc96b643"
   },
   "outputs": [],
   "source": [
    "product_category[\"category\"].value_counts()"
   ]
  },
  {
   "cell_type": "code",
   "execution_count": null,
   "metadata": {
    "colab": {
     "base_uri": "https://localhost:8080/",
     "height": 614
    },
    "executionInfo": {
     "elapsed": 238,
     "status": "ok",
     "timestamp": 1731954721666,
     "user": {
      "displayName": "Edicta Grullon",
      "userId": "06564017274082352377"
     },
     "user_tz": -60
    },
    "id": "T5Od-v6u6a2E",
    "outputId": "355804ad-0c05-40fc-cb85-86b477b7419c"
   },
   "outputs": [],
   "source": [
    "# Sample code checking after specific product type\n",
    "product_category[product_category[\"type\"] == \"1405\"]"
   ]
  },
  {
   "cell_type": "code",
   "execution_count": null,
   "metadata": {
    "colab": {
     "base_uri": "https://localhost:8080/",
     "height": 454
    },
    "executionInfo": {
     "elapsed": 237,
     "status": "ok",
     "timestamp": 1731954765914,
     "user": {
      "displayName": "Edicta Grullon",
      "userId": "06564017274082352377"
     },
     "user_tz": -60
    },
    "id": "fhNcBKIS7ZtT",
    "outputId": "8e5cdee0-ace6-4183-d112-75f7e5b18a34"
   },
   "outputs": [],
   "source": [
    "# Sample code looking at how many unique product types there are\n",
    "product_category.groupby(\"type\").count().nlargest(125, \"sku\")"
   ]
  },
  {
   "cell_type": "markdown",
   "metadata": {
    "id": "A3WYPqNrIq_Z"
   },
   "source": [
    "# Additional assignments\n",
    "<i>Search for used, second-hand, opened, used products to later analyze discounts even more precisely</i>"
   ]
  },
  {
   "cell_type": "code",
   "execution_count": null,
   "metadata": {
    "executionInfo": {
     "elapsed": 245,
     "status": "ok",
     "timestamp": 1731954779177,
     "user": {
      "displayName": "Edicta Grullon",
      "userId": "06564017274082352377"
     },
     "user_tz": -60
    },
    "id": "8sARgtN2Ine1"
   },
   "outputs": [],
   "source": [
    "# Searching sample code:\n",
    "# product_category.loc[product_category[\"desc\"].str.contains(\"keyboard\", case=False)]\n",
    "# product_category.loc[product_category[\"name\"].str.contains(\"^.{0,7}apple iphone\", case=False)]\n",
    "# (product_category.loc[product_category[[\"desc\", \"name\"]].apply(lambda x: x.str.contains(\"recorder\", case=False)).any(axis=1) &\n",
    "#                        ~product_category[[\"desc\", \"name\"]].apply(lambda x: x.str.contains(\"strap\", case=False)).any(axis=1)]\n",
    "#                        .sort_values(by='price', ascending=True))\n",
    "\n",
    "# Assigning sample code:\n",
    "# product_category.loc[product_category[\"desc\"].str.contains(\"keyboard\", case=False), \"category\"] = \"keyboard\"\n",
    "# product_category.loc[product_category[\"name\"].str.contains(\"^.{0,7}apple iphone\", case=False), \"category\"] = \"smartphone\""
   ]
  },
  {
   "cell_type": "code",
   "execution_count": null,
   "metadata": {
    "executionInfo": {
     "elapsed": 305,
     "status": "ok",
     "timestamp": 1731954783066,
     "user": {
      "displayName": "Edicta Grullon",
      "userId": "06564017274082352377"
     },
     "user_tz": -60
    },
    "id": "_7ehT0mI1TlV"
   },
   "outputs": [],
   "source": [
    "product_category.loc[product_category[[\"desc\", \"name\"]].apply(lambda x: x.str.contains(\"^.{0,2}second hand\", case=False)).any(axis=1), \"condition\"] = \"Refurbished\""
   ]
  },
  {
   "cell_type": "code",
   "execution_count": null,
   "metadata": {
    "executionInfo": {
     "elapsed": 381,
     "status": "ok",
     "timestamp": 1731954783915,
     "user": {
      "displayName": "Edicta Grullon",
      "userId": "06564017274082352377"
     },
     "user_tz": -60
    },
    "id": "4bSmEMhV4mOY"
   },
   "outputs": [],
   "source": [
    "product_category.loc[product_category[[\"desc\", \"name\"]].apply(lambda x: x.str.contains(\"^.{0,2}open\", case=False)).any(axis=1), \"condition\"] = \"Refurbished\""
   ]
  },
  {
   "cell_type": "code",
   "execution_count": null,
   "metadata": {
    "executionInfo": {
     "elapsed": 2,
     "status": "ok",
     "timestamp": 1731954784338,
     "user": {
      "displayName": "Edicta Grullon",
      "userId": "06564017274082352377"
     },
     "user_tz": -60
    },
    "id": "Onm68GoL4qmn"
   },
   "outputs": [],
   "source": [
    "product_category.loc[product_category[[\"desc\", \"name\"]].apply(lambda x: x.str.contains(\"^.{0,2}like new\", case=False)).any(axis=1), \"condition\"] = \"Refurbished\""
   ]
  },
  {
   "cell_type": "code",
   "execution_count": null,
   "metadata": {
    "executionInfo": {
     "elapsed": 397,
     "status": "ok",
     "timestamp": 1731954785283,
     "user": {
      "displayName": "Edicta Grullon",
      "userId": "06564017274082352377"
     },
     "user_tz": -60
    },
    "id": "BE8tv7il6w5e"
   },
   "outputs": [],
   "source": [
    "product_category.loc[product_category[[\"desc\", \"name\"]].apply(lambda x: x.str.contains(\"r\\(open\", case=False)).any(axis=1), \"condition\"] = \"Refurbished\""
   ]
  },
  {
   "cell_type": "code",
   "execution_count": null,
   "metadata": {
    "executionInfo": {
     "elapsed": 223,
     "status": "ok",
     "timestamp": 1731954785865,
     "user": {
      "displayName": "Edicta Grullon",
      "userId": "06564017274082352377"
     },
     "user_tz": -60
    },
    "id": "RuOyNpkaMUgr"
   },
   "outputs": [],
   "source": [
    "product_category.loc[product_category[[\"condition\"]].apply(lambda x: x.str.contains(\"refurbished\", case=False)).any(axis=1), \"condition\"] = \"Opened\""
   ]
  },
  {
   "cell_type": "code",
   "execution_count": null,
   "metadata": {
    "executionInfo": {
     "elapsed": 5,
     "status": "ok",
     "timestamp": 1731954786203,
     "user": {
      "displayName": "Edicta Grullon",
      "userId": "06564017274082352377"
     },
     "user_tz": -60
    },
    "id": "Qw3_VMAB1LMi"
   },
   "outputs": [],
   "source": [
    "product_category.loc[product_category[\"condition\"].str.strip() == \"\", \"condition\"] = \"New\""
   ]
  },
  {
   "cell_type": "code",
   "execution_count": null,
   "metadata": {
    "executionInfo": {
     "elapsed": 4,
     "status": "ok",
     "timestamp": 1731954787006,
     "user": {
      "displayName": "Edicta Grullon",
      "userId": "06564017274082352377"
     },
     "user_tz": -60
    },
    "id": "RgLssiN7v6ea"
   },
   "outputs": [],
   "source": [
    "product_category.loc[product_category[[\"desc\", \"name\"]].apply(lambda x: x.str.contains(\"backpack\", case=False)).any(axis=1), \"sub-category\"] = \"Backpacks\""
   ]
  },
  {
   "cell_type": "code",
   "execution_count": null,
   "metadata": {
    "executionInfo": {
     "elapsed": 417,
     "status": "ok",
     "timestamp": 1731954788528,
     "user": {
      "displayName": "Edicta Grullon",
      "userId": "06564017274082352377"
     },
     "user_tz": -60
    },
    "id": "tr37xjc29fyw"
   },
   "outputs": [],
   "source": [
    "product_category.loc[product_category[[\"desc\", \"name\"]].apply(lambda x: x.str.contains(\"backpack\", case=False)).any(axis=1), \"category\"] = \"Accessories\""
   ]
  },
  {
   "cell_type": "code",
   "execution_count": null,
   "metadata": {
    "executionInfo": {
     "elapsed": 4,
     "status": "ok",
     "timestamp": 1731954788990,
     "user": {
      "displayName": "Edicta Grullon",
      "userId": "06564017274082352377"
     },
     "user_tz": -60
    },
    "id": "YTozLQRKx4TO"
   },
   "outputs": [],
   "source": [
    "(product_category.loc[product_category[[\"sub-category\"]].apply(lambda x: x.str.contains(\"mixed\", case=False)).any(axis=1) &\n",
    "                        product_category[[\"name\"]].apply(lambda x: x.str.contains(\"docking station\", case=False)).any(axis=1), \"sub-category\"]) = \"Stands & Docks\""
   ]
  },
  {
   "cell_type": "code",
   "execution_count": null,
   "metadata": {
    "executionInfo": {
     "elapsed": 2,
     "status": "ok",
     "timestamp": 1731954789626,
     "user": {
      "displayName": "Edicta Grullon",
      "userId": "06564017274082352377"
     },
     "user_tz": -60
    },
    "id": "7aEvZw3_wPvp"
   },
   "outputs": [],
   "source": [
    "(product_category.loc[product_category[[\"sub-category\"]].apply(lambda x: x.str.contains(\"mixed\", case=False)).any(axis=1) &\n",
    "                        product_category[[\"name\"]].apply(lambda x: x.str.contains(\"docking station\", case=False)).any(axis=1), \"category\"]) = \"Accessories\""
   ]
  },
  {
   "cell_type": "code",
   "execution_count": null,
   "metadata": {
    "executionInfo": {
     "elapsed": 294,
     "status": "ok",
     "timestamp": 1731954790421,
     "user": {
      "displayName": "Edicta Grullon",
      "userId": "06564017274082352377"
     },
     "user_tz": -60
    },
    "id": "XlZHkEQ45yis"
   },
   "outputs": [],
   "source": [
    "(product_category.loc[product_category[[\"sub-category\"]].apply(lambda x: x.str.contains(\"mixed\", case=False)).any(axis=1) &\n",
    "                        product_category[[\"name\"]].apply(lambda x: x.str.contains(\"apple macbook\", case=False)).any(axis=1) &\n",
    "                        ~product_category[[\"desc\"]].apply(lambda x: x.str.contains(\"charger\", case=False)).any(axis=1), \"category\"]) = \"Laptop\""
   ]
  },
  {
   "cell_type": "code",
   "execution_count": null,
   "metadata": {
    "executionInfo": {
     "elapsed": 314,
     "status": "ok",
     "timestamp": 1731954792018,
     "user": {
      "displayName": "Edicta Grullon",
      "userId": "06564017274082352377"
     },
     "user_tz": -60
    },
    "id": "TjrQkq3eyxh-"
   },
   "outputs": [],
   "source": [
    "(product_category.loc[product_category[[\"sub-category\"]].apply(lambda x: x.str.contains(\"mixed\", case=False)).any(axis=1) &\n",
    "                        product_category[[\"name\"]].apply(lambda x: x.str.contains(\"apple macbook\", case=False)).any(axis=1) &\n",
    "                        ~product_category[[\"desc\"]].apply(lambda x: x.str.contains(\"charger\", case=False)).any(axis=1), \"sub-category\"]) = \"MacBook\""
   ]
  },
  {
   "cell_type": "code",
   "execution_count": null,
   "metadata": {
    "executionInfo": {
     "elapsed": 380,
     "status": "ok",
     "timestamp": 1731954792780,
     "user": {
      "displayName": "Edicta Grullon",
      "userId": "06564017274082352377"
     },
     "user_tz": -60
    },
    "id": "Q_1QAfCD7G6v"
   },
   "outputs": [],
   "source": [
    "(product_category.loc[product_category[[\"sub-category\"]].apply(lambda x: x.str.contains(\"mixed\", case=False)).any(axis=1) &\n",
    "                        product_category[[\"name\"]].apply(lambda x: x.str.contains(\"apple imac\", case=False)).any(axis=1) &\n",
    "                        ~product_category[[\"desc\"]].apply(lambda x: x.str.contains(\"charger\", case=False)).any(axis=1), \"category\"]) = \"Desktop\""
   ]
  },
  {
   "cell_type": "code",
   "execution_count": null,
   "metadata": {
    "executionInfo": {
     "elapsed": 537,
     "status": "ok",
     "timestamp": 1731954793650,
     "user": {
      "displayName": "Edicta Grullon",
      "userId": "06564017274082352377"
     },
     "user_tz": -60
    },
    "id": "p9l-PO4E7EzH"
   },
   "outputs": [],
   "source": [
    "(product_category.loc[product_category[[\"sub-category\"]].apply(lambda x: x.str.contains(\"mixed\", case=False)).any(axis=1) &\n",
    "                        product_category[[\"name\"]].apply(lambda x: x.str.contains(\"apple imac\", case=False)).any(axis=1) &\n",
    "                        ~product_category[[\"desc\"]].apply(lambda x: x.str.contains(\"charger\", case=False)).any(axis=1), \"sub-category\"]) = \"iMac\""
   ]
  },
  {
   "cell_type": "code",
   "execution_count": null,
   "metadata": {
    "executionInfo": {
     "elapsed": 536,
     "status": "ok",
     "timestamp": 1731954794580,
     "user": {
      "displayName": "Edicta Grullon",
      "userId": "06564017274082352377"
     },
     "user_tz": -60
    },
    "id": "UffpJHJA7Yli"
   },
   "outputs": [],
   "source": [
    "(product_category.loc[product_category[[\"sub-category\"]].apply(lambda x: x.str.contains(\"mixed\", case=False)).any(axis=1) &\n",
    "                        product_category[[\"name\"]].apply(lambda x: x.str.contains(\"graphics tablet\", case=False)).any(axis=1) &\n",
    "                        ~product_category[[\"desc\"]].apply(lambda x: x.str.contains(\"charger\", case=False)).any(axis=1), \"category\"]) = \"Tablet\""
   ]
  },
  {
   "cell_type": "code",
   "execution_count": null,
   "metadata": {
    "executionInfo": {
     "elapsed": 3,
     "status": "ok",
     "timestamp": 1731954795736,
     "user": {
      "displayName": "Edicta Grullon",
      "userId": "06564017274082352377"
     },
     "user_tz": -60
    },
    "id": "M2zAjx8C7W4Z"
   },
   "outputs": [],
   "source": [
    "(product_category.loc[product_category[[\"sub-category\"]].apply(lambda x: x.str.contains(\"mixed\", case=False)).any(axis=1) &\n",
    "                        product_category[[\"name\"]].apply(lambda x: x.str.contains(\"apple imac\", case=False)).any(axis=1) &\n",
    "                        ~product_category[[\"desc\"]].apply(lambda x: x.str.contains(\"charger\", case=False)).any(axis=1), \"sub-category\"]) = \"Graphic tablets\""
   ]
  },
  {
   "cell_type": "code",
   "execution_count": null,
   "metadata": {
    "executionInfo": {
     "elapsed": 351,
     "status": "ok",
     "timestamp": 1731954796433,
     "user": {
      "displayName": "Edicta Grullon",
      "userId": "06564017274082352377"
     },
     "user_tz": -60
    },
    "id": "zBBE9f7A8I9h"
   },
   "outputs": [],
   "source": [
    "(product_category.loc[product_category[[\"sub-category\"]].apply(lambda x: x.str.contains(\"mixed\", case=False)).any(axis=1) &\n",
    "                        product_category[[\"name\"]].apply(lambda x: x.str.contains(\"apple mac mini\", case=False)).any(axis=1) &\n",
    "                        ~product_category[[\"desc\"]].apply(lambda x: x.str.contains(\"charger\", case=False)).any(axis=1), \"category\"]) = \"Desktop\""
   ]
  },
  {
   "cell_type": "code",
   "execution_count": null,
   "metadata": {
    "executionInfo": {
     "elapsed": 11,
     "status": "ok",
     "timestamp": 1731954797529,
     "user": {
      "displayName": "Edicta Grullon",
      "userId": "06564017274082352377"
     },
     "user_tz": -60
    },
    "id": "8macOpEA8HFj"
   },
   "outputs": [],
   "source": [
    "(product_category.loc[product_category[[\"sub-category\"]].apply(lambda x: x.str.contains(\"mixed\", case=False)).any(axis=1) &\n",
    "                        product_category[[\"name\"]].apply(lambda x: x.str.contains(\"apple mac mini\", case=False)).any(axis=1) &\n",
    "                        ~product_category[[\"desc\"]].apply(lambda x: x.str.contains(\"charger\", case=False)).any(axis=1), \"sub-category\"]) = \"iMac\""
   ]
  },
  {
   "cell_type": "code",
   "execution_count": null,
   "metadata": {
    "executionInfo": {
     "elapsed": 269,
     "status": "ok",
     "timestamp": 1731954799333,
     "user": {
      "displayName": "Edicta Grullon",
      "userId": "06564017274082352377"
     },
     "user_tz": -60
    },
    "id": "LlhWnCMJ-LiV"
   },
   "outputs": [],
   "source": [
    "(product_category.loc[product_category[[\"sub-category\"]].apply(lambda x: x.str.contains(\"mixed\", case=False)).any(axis=1) &\n",
    "                        product_category[[\"desc\"]].apply(lambda x: x.str.contains(\"monitor\", case=False)).any(axis=1) &\n",
    "                        (product_category[\"price\"] >= 500),\"category\"]) = \"Components\""
   ]
  },
  {
   "cell_type": "code",
   "execution_count": null,
   "metadata": {
    "executionInfo": {
     "elapsed": 348,
     "status": "ok",
     "timestamp": 1731954800038,
     "user": {
      "displayName": "Edicta Grullon",
      "userId": "06564017274082352377"
     },
     "user_tz": -60
    },
    "id": "A55l9iqC_fu9"
   },
   "outputs": [],
   "source": [
    "(product_category.loc[product_category[[\"sub-category\"]].apply(lambda x: x.str.contains(\"mixed\", case=False)).any(axis=1) &\n",
    "                        product_category[[\"desc\"]].apply(lambda x: x.str.contains(\"monitor\", case=False)).any(axis=1) &\n",
    "                        (product_category[\"price\"] >= 500),\"sub-category\"]) = \"Monitor\""
   ]
  },
  {
   "cell_type": "code",
   "execution_count": null,
   "metadata": {
    "executionInfo": {
     "elapsed": 340,
     "status": "ok",
     "timestamp": 1731954800670,
     "user": {
      "displayName": "Edicta Grullon",
      "userId": "06564017274082352377"
     },
     "user_tz": -60
    },
    "id": "FRupaVZV_4dg"
   },
   "outputs": [],
   "source": [
    "(product_category.loc[product_category[[\"sub-category\"]].apply(lambda x: x.str.contains(\"mixed\", case=False)).any(axis=1) &\n",
    "                        product_category[[\"desc\"]].apply(lambda x: x.str.contains(\"graphics tablet\", case=False)).any(axis=1),\"category\"]) = \"Tablet\""
   ]
  },
  {
   "cell_type": "code",
   "execution_count": null,
   "metadata": {
    "executionInfo": {
     "elapsed": 379,
     "status": "ok",
     "timestamp": 1731954801349,
     "user": {
      "displayName": "Edicta Grullon",
      "userId": "06564017274082352377"
     },
     "user_tz": -60
    },
    "id": "1xd3BpQx_4MM"
   },
   "outputs": [],
   "source": [
    "(product_category.loc[product_category[[\"sub-category\"]].apply(lambda x: x.str.contains(\"mixed\", case=False)).any(axis=1) &\n",
    "                        product_category[[\"desc\"]].apply(lambda x: x.str.contains(\"graphics tablet\", case=False)).any(axis=1),\"sub-category\"]) = \"Graphic tablets\""
   ]
  },
  {
   "cell_type": "code",
   "execution_count": null,
   "metadata": {
    "executionInfo": {
     "elapsed": 360,
     "status": "ok",
     "timestamp": 1731954801960,
     "user": {
      "displayName": "Edicta Grullon",
      "userId": "06564017274082352377"
     },
     "user_tz": -60
    },
    "id": "P3I5kuPbBC_W"
   },
   "outputs": [],
   "source": [
    "(product_category.loc[product_category[[\"sub-category\"]].apply(lambda x: x.str.contains(\"mixed\", case=False)).any(axis=1) &\n",
    "                        product_category[[\"name\"]].apply(lambda x: x.str.contains(\"apple ipad\", case=False)).any(axis=1) &\n",
    "                        (product_category[\"price\"] >= 300),\"category\"]) = \"Tablet\""
   ]
  },
  {
   "cell_type": "code",
   "execution_count": null,
   "metadata": {
    "executionInfo": {
     "elapsed": 6,
     "status": "ok",
     "timestamp": 1731954802282,
     "user": {
      "displayName": "Edicta Grullon",
      "userId": "06564017274082352377"
     },
     "user_tz": -60
    },
    "id": "7FgaYY8IBE7o"
   },
   "outputs": [],
   "source": [
    "(product_category.loc[product_category[[\"sub-category\"]].apply(lambda x: x.str.contains(\"mixed\", case=False)).any(axis=1) &\n",
    "                        product_category[[\"name\"]].apply(lambda x: x.str.contains(\"apple ipad\", case=False)).any(axis=1) &\n",
    "                        (product_category[\"price\"] >= 300),\"sub-category\"]) = \"iPad\""
   ]
  },
  {
   "cell_type": "code",
   "execution_count": null,
   "metadata": {
    "executionInfo": {
     "elapsed": 451,
     "status": "ok",
     "timestamp": 1731954803443,
     "user": {
      "displayName": "Edicta Grullon",
      "userId": "06564017274082352377"
     },
     "user_tz": -60
    },
    "id": "j484cc9pCYFH"
   },
   "outputs": [],
   "source": [
    "(product_category.loc[product_category[[\"sub-category\"]].apply(lambda x: x.str.contains(\"mixed\", case=False)).any(axis=1) &\n",
    "                        product_category[[\"desc\"]].apply(lambda x: x.str.contains(\"expansion\", case=False)).any(axis=1) &\n",
    "                        (product_category[\"price\"] >= 300),\"category\"]) = \"Components\""
   ]
  },
  {
   "cell_type": "code",
   "execution_count": null,
   "metadata": {
    "executionInfo": {
     "elapsed": 358,
     "status": "ok",
     "timestamp": 1731954805662,
     "user": {
      "displayName": "Edicta Grullon",
      "userId": "06564017274082352377"
     },
     "user_tz": -60
    },
    "id": "3DHMsWVjCZeQ"
   },
   "outputs": [],
   "source": [
    "(product_category.loc[product_category[[\"sub-category\"]].apply(lambda x: x.str.contains(\"mixed\", case=False)).any(axis=1) &\n",
    "                        product_category[[\"desc\"]].apply(lambda x: x.str.contains(\"expansion\", case=False)).any(axis=1) &\n",
    "                        (product_category[\"price\"] >= 300),\"sub-category\"]) = \"Harddrives\""
   ]
  },
  {
   "cell_type": "code",
   "execution_count": null,
   "metadata": {
    "executionInfo": {
     "elapsed": 3,
     "status": "ok",
     "timestamp": 1731954806378,
     "user": {
      "displayName": "Edicta Grullon",
      "userId": "06564017274082352377"
     },
     "user_tz": -60
    },
    "id": "04Nban8dDOQu"
   },
   "outputs": [],
   "source": [
    "(product_category.loc[product_category[[\"sub-category\"]].apply(lambda x: x.str.contains(\"mixed\", case=False)).any(axis=1) &\n",
    "                        product_category[[\"desc\"]].apply(lambda x: x.str.contains(\"smartwatch\", case=False)).any(axis=1) &\n",
    "                        (product_category[\"price\"] >= 30),\"category\"]) = \"Watch\""
   ]
  },
  {
   "cell_type": "code",
   "execution_count": null,
   "metadata": {
    "executionInfo": {
     "elapsed": 402,
     "status": "ok",
     "timestamp": 1731954807108,
     "user": {
      "displayName": "Edicta Grullon",
      "userId": "06564017274082352377"
     },
     "user_tz": -60
    },
    "id": "Kvx_QX93DOCN"
   },
   "outputs": [],
   "source": [
    "(product_category.loc[product_category[[\"sub-category\"]].apply(lambda x: x.str.contains(\"mixed\", case=False)).any(axis=1) &\n",
    "                        product_category[[\"desc\"]].apply(lambda x: x.str.contains(\"smartwatch\", case=False)).any(axis=1) &\n",
    "                        (product_category[\"price\"] >= 30),\"sub-category\"]) = \"Smartwatch\""
   ]
  },
  {
   "cell_type": "code",
   "execution_count": null,
   "metadata": {
    "executionInfo": {
     "elapsed": 360,
     "status": "ok",
     "timestamp": 1731954807864,
     "user": {
      "displayName": "Edicta Grullon",
      "userId": "06564017274082352377"
     },
     "user_tz": -60
    },
    "id": "XUvmqpk3G2Nq"
   },
   "outputs": [],
   "source": [
    "(product_category.loc[product_category[[\"sub-category\"]].apply(lambda x: x.str.contains(\"mixed\", case=False)).any(axis=1) &\n",
    "                        product_category[[\"desc\"]].apply(lambda x: x.str.contains(\"smart watch\", case=False)).any(axis=1) &\n",
    "                        (product_category[\"price\"] >= 30),\"category\"]) = \"Watch\""
   ]
  },
  {
   "cell_type": "code",
   "execution_count": null,
   "metadata": {
    "executionInfo": {
     "elapsed": 1,
     "status": "ok",
     "timestamp": 1731954808189,
     "user": {
      "displayName": "Edicta Grullon",
      "userId": "06564017274082352377"
     },
     "user_tz": -60
    },
    "id": "8fqyD9zIG19F"
   },
   "outputs": [],
   "source": [
    "(product_category.loc[product_category[[\"sub-category\"]].apply(lambda x: x.str.contains(\"mixed\", case=False)).any(axis=1) &\n",
    "                        product_category[[\"desc\"]].apply(lambda x: x.str.contains(\"smart watch\", case=False)).any(axis=1) &\n",
    "                        (product_category[\"price\"] >= 30),\"sub-category\"]) = \"Smartwatch\""
   ]
  },
  {
   "cell_type": "code",
   "execution_count": null,
   "metadata": {
    "executionInfo": {
     "elapsed": 3,
     "status": "ok",
     "timestamp": 1731954809522,
     "user": {
      "displayName": "Edicta Grullon",
      "userId": "06564017274082352377"
     },
     "user_tz": -60
    },
    "id": "4VPx9F2sEBD3"
   },
   "outputs": [],
   "source": [
    "(product_category.loc[product_category[[\"sub-category\"]].apply(lambda x: x.str.contains(\"mixed\", case=False)).any(axis=1) &\n",
    "                        product_category[[\"desc\"]].apply(lambda x: x.str.contains(\"hard drive\", case=False)).any(axis=1) &\n",
    "                        (product_category[\"price\"] >= 30),\"category\"]) = \"Components\""
   ]
  },
  {
   "cell_type": "code",
   "execution_count": null,
   "metadata": {
    "executionInfo": {
     "elapsed": 300,
     "status": "ok",
     "timestamp": 1731954811304,
     "user": {
      "displayName": "Edicta Grullon",
      "userId": "06564017274082352377"
     },
     "user_tz": -60
    },
    "id": "2Vr_K2w7ECn6"
   },
   "outputs": [],
   "source": [
    "(product_category.loc[product_category[[\"sub-category\"]].apply(lambda x: x.str.contains(\"mixed\", case=False)).any(axis=1) &\n",
    "                        product_category[[\"desc\"]].apply(lambda x: x.str.contains(\"hard drive\", case=False)).any(axis=1) &\n",
    "                        (product_category[\"price\"] >= 30),\"sub-category\"]) = \"Harddrives\""
   ]
  },
  {
   "cell_type": "code",
   "execution_count": null,
   "metadata": {
    "executionInfo": {
     "elapsed": 378,
     "status": "ok",
     "timestamp": 1731954812070,
     "user": {
      "displayName": "Edicta Grullon",
      "userId": "06564017274082352377"
     },
     "user_tz": -60
    },
    "id": "M9gjNAgSHPlM"
   },
   "outputs": [],
   "source": [
    "(product_category.loc[product_category[[\"sub-category\"]].apply(lambda x: x.str.contains(\"mixed\", case=False)).any(axis=1) &\n",
    "                        product_category[[\"desc\"]].apply(lambda x: x.str.contains(\"protective\", case=False)).any(axis=1),\"category\"]) = \"Accessories\""
   ]
  },
  {
   "cell_type": "code",
   "execution_count": null,
   "metadata": {
    "executionInfo": {
     "elapsed": 413,
     "status": "ok",
     "timestamp": 1731954812968,
     "user": {
      "displayName": "Edicta Grullon",
      "userId": "06564017274082352377"
     },
     "user_tz": -60
    },
    "id": "rvNWPvPeHQPz"
   },
   "outputs": [],
   "source": [
    "(product_category.loc[product_category[[\"sub-category\"]].apply(lambda x: x.str.contains(\"mixed\", case=False)).any(axis=1) &\n",
    "                        product_category[[\"desc\"]].apply(lambda x: x.str.contains(\"protective\", case=False)).any(axis=1),\"sub-category\"]) = \"Cases\""
   ]
  },
  {
   "cell_type": "code",
   "execution_count": null,
   "metadata": {
    "executionInfo": {
     "elapsed": 359,
     "status": "ok",
     "timestamp": 1731954813324,
     "user": {
      "displayName": "Edicta Grullon",
      "userId": "06564017274082352377"
     },
     "user_tz": -60
    },
    "id": "LNzP05HXJXnZ"
   },
   "outputs": [],
   "source": [
    "(product_category.loc[product_category[[\"sub-category\"]].apply(lambda x: x.str.contains(\"mixed\", case=False)).any(axis=1) &\n",
    "                        product_category[[\"desc\"]].apply(lambda x: x.str.contains(\"housing\", case=False)).any(axis=1) &\n",
    "                        (product_category[\"price\"] >= 230),\"category\"]) = \"Accessories\""
   ]
  },
  {
   "cell_type": "code",
   "execution_count": null,
   "metadata": {
    "executionInfo": {
     "elapsed": 4,
     "status": "ok",
     "timestamp": 1731954813934,
     "user": {
      "displayName": "Edicta Grullon",
      "userId": "06564017274082352377"
     },
     "user_tz": -60
    },
    "id": "tsU_RUjBJYGL"
   },
   "outputs": [],
   "source": [
    "(product_category.loc[product_category[[\"sub-category\"]].apply(lambda x: x.str.contains(\"mixed\", case=False)).any(axis=1) &\n",
    "                        product_category[[\"desc\"]].apply(lambda x: x.str.contains(\"housing\", case=False)).any(axis=1) &\n",
    "                        (product_category[\"price\"] >= 230),\"sub-category\"]) = \"Protectors\""
   ]
  },
  {
   "cell_type": "code",
   "execution_count": null,
   "metadata": {
    "executionInfo": {
     "elapsed": 2,
     "status": "ok",
     "timestamp": 1731954814637,
     "user": {
      "displayName": "Edicta Grullon",
      "userId": "06564017274082352377"
     },
     "user_tz": -60
    },
    "id": "nXTLJkeSKCCg"
   },
   "outputs": [],
   "source": [
    "(product_category.loc[product_category[[\"sub-category\"]].apply(lambda x: x.str.contains(\"mixed\", case=False)).any(axis=1) &\n",
    "                        product_category[[\"desc\"]].apply(lambda x: x.str.contains(\"housing\", case=False)).any(axis=1),\"category\"]) = \"Accessories\""
   ]
  },
  {
   "cell_type": "code",
   "execution_count": null,
   "metadata": {
    "executionInfo": {
     "elapsed": 468,
     "status": "ok",
     "timestamp": 1731954815451,
     "user": {
      "displayName": "Edicta Grullon",
      "userId": "06564017274082352377"
     },
     "user_tz": -60
    },
    "id": "4_dBxlIPKDAP"
   },
   "outputs": [],
   "source": [
    "(product_category.loc[product_category[[\"sub-category\"]].apply(lambda x: x.str.contains(\"mixed\", case=False)).any(axis=1) &\n",
    "                        product_category[[\"desc\"]].apply(lambda x: x.str.contains(\"housing\", case=False)).any(axis=1),\"sub-category\"]) = \"Cases\""
   ]
  },
  {
   "cell_type": "code",
   "execution_count": null,
   "metadata": {
    "executionInfo": {
     "elapsed": 314,
     "status": "ok",
     "timestamp": 1731954817826,
     "user": {
      "displayName": "Edicta Grullon",
      "userId": "06564017274082352377"
     },
     "user_tz": -60
    },
    "id": "q9nSkSdzOskq"
   },
   "outputs": [],
   "source": [
    "(product_category.loc[product_category[[\"sub-category\"]].apply(lambda x: x.str.contains(\"mixed\", case=False)).any(axis=1) &\n",
    "                        product_category[[\"desc\"]].apply(lambda x: x.str.contains(\"two-wheeled\", case=False)).any(axis=1),\"sub-category\"]) = \"Transport\""
   ]
  },
  {
   "cell_type": "code",
   "execution_count": null,
   "metadata": {
    "executionInfo": {
     "elapsed": 3,
     "status": "ok",
     "timestamp": 1731954818725,
     "user": {
      "displayName": "Edicta Grullon",
      "userId": "06564017274082352377"
     },
     "user_tz": -60
    },
    "id": "nmKhxendOsYh"
   },
   "outputs": [],
   "source": [
    "(product_category.loc[product_category[[\"sub-category\"]].apply(lambda x: x.str.contains(\"mixed\", case=False)).any(axis=1) &\n",
    "                        product_category[[\"desc\"]].apply(lambda x: x.str.contains(\"two-wheeled\", case=False)).any(axis=1),\"category\"]) = \"Other\""
   ]
  },
  {
   "cell_type": "code",
   "execution_count": null,
   "metadata": {
    "executionInfo": {
     "elapsed": 7,
     "status": "ok",
     "timestamp": 1731954819478,
     "user": {
      "displayName": "Edicta Grullon",
      "userId": "06564017274082352377"
     },
     "user_tz": -60
    },
    "id": "yaJmBxavLH3a"
   },
   "outputs": [],
   "source": [
    "(product_category.loc[product_category[[\"sub-category\"]].apply(lambda x: x.str.contains(\"mixed\", case=False)).any(axis=1) &\n",
    "                        product_category[[\"desc\"]].apply(lambda x: x.str.contains(\"scooter\", case=False)).any(axis=1),\"sub-category\"]) = \"Transport\""
   ]
  },
  {
   "cell_type": "code",
   "execution_count": null,
   "metadata": {
    "executionInfo": {
     "elapsed": 445,
     "status": "ok",
     "timestamp": 1731954820271,
     "user": {
      "displayName": "Edicta Grullon",
      "userId": "06564017274082352377"
     },
     "user_tz": -60
    },
    "id": "ohagVi6MLIRl"
   },
   "outputs": [],
   "source": [
    "(product_category.loc[product_category[[\"sub-category\"]].apply(lambda x: x.str.contains(\"mixed\", case=False)).any(axis=1) &\n",
    "                        product_category[[\"desc\"]].apply(lambda x: x.str.contains(\"scooter\", case=False)).any(axis=1),\"category\"]) = \"Other\""
   ]
  },
  {
   "cell_type": "code",
   "execution_count": null,
   "metadata": {
    "executionInfo": {
     "elapsed": 302,
     "status": "ok",
     "timestamp": 1731954820932,
     "user": {
      "displayName": "Edicta Grullon",
      "userId": "06564017274082352377"
     },
     "user_tz": -60
    },
    "id": "7cRx7zIXP7j9"
   },
   "outputs": [],
   "source": [
    "(product_category.loc[product_category[[\"sub-category\"]].apply(lambda x: x.str.contains(\"mixed\", case=False)).any(axis=1) &\n",
    "                        product_category[[\"desc\"]].apply(lambda x: x.str.contains(\"iphone\", case=False)).any(axis=1) &\n",
    "                        (product_category[\"price\"] >= 400),\"category\"]) = \"Smartphone\""
   ]
  },
  {
   "cell_type": "code",
   "execution_count": null,
   "metadata": {
    "executionInfo": {
     "elapsed": 4,
     "status": "ok",
     "timestamp": 1731954821843,
     "user": {
      "displayName": "Edicta Grullon",
      "userId": "06564017274082352377"
     },
     "user_tz": -60
    },
    "id": "dU0jUNVZP7Jo"
   },
   "outputs": [],
   "source": [
    "(product_category.loc[product_category[[\"sub-category\"]].apply(lambda x: x.str.contains(\"mixed\", case=False)).any(axis=1) &\n",
    "                        product_category[[\"desc\"]].apply(lambda x: x.str.contains(\"iphone\", case=False)).any(axis=1) &\n",
    "                        (product_category[\"price\"] >= 400),\"sub-category\"]) = \"iPhone\""
   ]
  },
  {
   "cell_type": "code",
   "execution_count": null,
   "metadata": {
    "executionInfo": {
     "elapsed": 320,
     "status": "ok",
     "timestamp": 1731954822499,
     "user": {
      "displayName": "Edicta Grullon",
      "userId": "06564017274082352377"
     },
     "user_tz": -60
    },
    "id": "mIIVfFM2RizS"
   },
   "outputs": [],
   "source": [
    "(product_category.loc[product_category[[\"sub-category\"]].apply(lambda x: x.str.contains(\"mixed\", case=False)).any(axis=1) &\n",
    "                        product_category[[\"desc\"]].apply(lambda x: x.str.contains(\"server\", case=False)).any(axis=1) &\n",
    "                        (product_category[\"price\"] >= 300),\"category\"]) = \"Components\""
   ]
  },
  {
   "cell_type": "code",
   "execution_count": null,
   "metadata": {
    "executionInfo": {
     "elapsed": 5,
     "status": "ok",
     "timestamp": 1731954823278,
     "user": {
      "displayName": "Edicta Grullon",
      "userId": "06564017274082352377"
     },
     "user_tz": -60
    },
    "id": "bucyDmU0Rrpp"
   },
   "outputs": [],
   "source": [
    "(product_category.loc[product_category[[\"sub-category\"]].apply(lambda x: x.str.contains(\"mixed\", case=False)).any(axis=1) &\n",
    "                        product_category[[\"desc\"]].apply(lambda x: x.str.contains(\"server\", case=False)).any(axis=1) &\n",
    "                        (product_category[\"price\"] >= 300),\"sub-category\"]) = \"Servers\""
   ]
  },
  {
   "cell_type": "code",
   "execution_count": null,
   "metadata": {
    "executionInfo": {
     "elapsed": 408,
     "status": "ok",
     "timestamp": 1731954826072,
     "user": {
      "displayName": "Edicta Grullon",
      "userId": "06564017274082352377"
     },
     "user_tz": -60
    },
    "id": "08cNl_RYSmY2"
   },
   "outputs": [],
   "source": [
    "(product_category.loc[product_category[[\"sub-category\"]].apply(lambda x: x.str.contains(\"mixed\", case=False)).any(axis=1) &\n",
    "                        product_category[[\"desc\"]].apply(lambda x: x.str.contains(\"external\", case=False)).any(axis=1) &\n",
    "                        (product_category[\"price\"] >= 300),\"category\"]) = \"Components\""
   ]
  },
  {
   "cell_type": "code",
   "execution_count": null,
   "metadata": {
    "executionInfo": {
     "elapsed": 349,
     "status": "ok",
     "timestamp": 1731954826945,
     "user": {
      "displayName": "Edicta Grullon",
      "userId": "06564017274082352377"
     },
     "user_tz": -60
    },
    "id": "Z84zWm4LTEZm"
   },
   "outputs": [],
   "source": [
    "(product_category.loc[product_category[[\"sub-category\"]].apply(lambda x: x.str.contains(\"mixed\", case=False)).any(axis=1) &\n",
    "                        product_category[[\"desc\"]].apply(lambda x: x.str.contains(\"external\", case=False)).any(axis=1) &\n",
    "                        (product_category[\"price\"] >= 300),\"sub-category\"]) = \"Memory\""
   ]
  },
  {
   "cell_type": "code",
   "execution_count": null,
   "metadata": {
    "executionInfo": {
     "elapsed": 355,
     "status": "ok",
     "timestamp": 1731954827599,
     "user": {
      "displayName": "Edicta Grullon",
      "userId": "06564017274082352377"
     },
     "user_tz": -60
    },
    "id": "0lVq2aZsTtc4"
   },
   "outputs": [],
   "source": [
    "(product_category.loc[product_category[[\"sub-category\"]].apply(lambda x: x.str.contains(\"mixed\", case=False)).any(axis=1) &\n",
    "                        product_category[[\"desc\"]].apply(lambda x: x.str.contains(\"camera\", case=False)).any(axis=1) &\n",
    "                        (product_category[\"price\"] >= 300),\"category\"]) = \"Components\""
   ]
  },
  {
   "cell_type": "code",
   "execution_count": null,
   "metadata": {
    "executionInfo": {
     "elapsed": 434,
     "status": "ok",
     "timestamp": 1731954828379,
     "user": {
      "displayName": "Edicta Grullon",
      "userId": "06564017274082352377"
     },
     "user_tz": -60
    },
    "id": "4ydC7__STvgW"
   },
   "outputs": [],
   "source": [
    "(product_category.loc[product_category[[\"sub-category\"]].apply(lambda x: x.str.contains(\"mixed\", case=False)).any(axis=1) &\n",
    "                        product_category[[\"desc\"]].apply(lambda x: x.str.contains(\"camera\", case=False)).any(axis=1) &\n",
    "                        (product_category[\"price\"] >= 300),\"sub-category\"]) = \"Cam & Video\""
   ]
  },
  {
   "cell_type": "code",
   "execution_count": null,
   "metadata": {
    "executionInfo": {
     "elapsed": 344,
     "status": "ok",
     "timestamp": 1731954828973,
     "user": {
      "displayName": "Edicta Grullon",
      "userId": "06564017274082352377"
     },
     "user_tz": -60
    },
    "id": "kpHa7aYVUOUx"
   },
   "outputs": [],
   "source": [
    "(product_category.loc[product_category[[\"sub-category\"]].apply(lambda x: x.str.contains(\"mixed\", case=False)).any(axis=1) &\n",
    "                        product_category[[\"desc\"]].apply(lambda x: x.str.contains(\"monitor\", case=False)).any(axis=1) &\n",
    "                        (product_category[\"price\"] >= 300),\"category\"]) = \"Components\""
   ]
  },
  {
   "cell_type": "code",
   "execution_count": null,
   "metadata": {
    "executionInfo": {
     "elapsed": 3,
     "status": "ok",
     "timestamp": 1731954829295,
     "user": {
      "displayName": "Edicta Grullon",
      "userId": "06564017274082352377"
     },
     "user_tz": -60
    },
    "id": "XkXVn99eUOF3"
   },
   "outputs": [],
   "source": [
    "(product_category.loc[product_category[[\"sub-category\"]].apply(lambda x: x.str.contains(\"mixed\", case=False)).any(axis=1) &\n",
    "                        product_category[[\"desc\"]].apply(lambda x: x.str.contains(\"monitor\", case=False)).any(axis=1) &\n",
    "                        (product_category[\"price\"] >= 300),\"sub-category\"]) = \"Monitor\""
   ]
  },
  {
   "cell_type": "code",
   "execution_count": null,
   "metadata": {
    "executionInfo": {
     "elapsed": 238,
     "status": "ok",
     "timestamp": 1731954830148,
     "user": {
      "displayName": "Edicta Grullon",
      "userId": "06564017274082352377"
     },
     "user_tz": -60
    },
    "id": "WcLwLQ9PUyxN"
   },
   "outputs": [],
   "source": [
    "(product_category.loc[product_category[[\"sub-category\"]].apply(lambda x: x.str.contains(\"mixed\", case=False)).any(axis=1) &\n",
    "                        product_category[[\"desc\"]].apply(lambda x: x.str.contains(\"dock\", case=False)).any(axis=1) &\n",
    "                        (product_category[\"price\"] >= 300),\"category\"]) = \"Accessories\""
   ]
  },
  {
   "cell_type": "code",
   "execution_count": null,
   "metadata": {
    "executionInfo": {
     "elapsed": 312,
     "status": "ok",
     "timestamp": 1731954834014,
     "user": {
      "displayName": "Edicta Grullon",
      "userId": "06564017274082352377"
     },
     "user_tz": -60
    },
    "id": "xuSYizaxUz0B"
   },
   "outputs": [],
   "source": [
    "(product_category.loc[product_category[[\"sub-category\"]].apply(lambda x: x.str.contains(\"mixed\", case=False)).any(axis=1) &\n",
    "                        product_category[[\"desc\"]].apply(lambda x: x.str.contains(\"dock\", case=False)).any(axis=1) &\n",
    "                        (product_category[\"price\"] >= 300),\"sub-category\"]) = \"Stands & Docks\""
   ]
  },
  {
   "cell_type": "code",
   "execution_count": null,
   "metadata": {
    "executionInfo": {
     "elapsed": 299,
     "status": "ok",
     "timestamp": 1731954834628,
     "user": {
      "displayName": "Edicta Grullon",
      "userId": "06564017274082352377"
     },
     "user_tz": -60
    },
    "id": "2vvL2cpzVTod"
   },
   "outputs": [],
   "source": [
    "(product_category.loc[product_category[[\"sub-category\"]].apply(lambda x: x.str.contains(\"mixed\", case=False)).any(axis=1) &\n",
    "                        product_category[[\"desc\"]].apply(lambda x: x.str.contains(\"disk\", case=False)).any(axis=1) &\n",
    "                        (product_category[\"price\"] >= 300),\"category\"]) = \"Components\""
   ]
  },
  {
   "cell_type": "code",
   "execution_count": null,
   "metadata": {
    "executionInfo": {
     "elapsed": 2,
     "status": "ok",
     "timestamp": 1731954835309,
     "user": {
      "displayName": "Edicta Grullon",
      "userId": "06564017274082352377"
     },
     "user_tz": -60
    },
    "id": "HjTjG8kZVV6P"
   },
   "outputs": [],
   "source": [
    "(product_category.loc[product_category[[\"sub-category\"]].apply(lambda x: x.str.contains(\"mixed\", case=False)).any(axis=1) &\n",
    "                        product_category[[\"desc\"]].apply(lambda x: x.str.contains(\"disk\", case=False)).any(axis=1) &\n",
    "                        (product_category[\"price\"] >= 300),\"sub-category\"]) = \"Harddrives\""
   ]
  },
  {
   "cell_type": "markdown",
   "metadata": {
    "id": "g5MvTmwe8C0h"
   },
   "source": [
    "## Searches"
   ]
  },
  {
   "cell_type": "code",
   "execution_count": null,
   "metadata": {
    "colab": {
     "base_uri": "https://localhost:8080/",
     "height": 53
    },
    "executionInfo": {
     "elapsed": 5,
     "status": "ok",
     "timestamp": 1731954836521,
     "user": {
      "displayName": "Edicta Grullon",
      "userId": "06564017274082352377"
     },
     "user_tz": -60
    },
    "id": "SKWz8UgQTaUw",
    "outputId": "4a1789bb-362e-40a3-fa0d-5c3d4d0f22b9"
   },
   "outputs": [],
   "source": [
    "# Sample code reused for searching\n",
    "product_category.loc[product_category[[\"sub-category\"]].apply(lambda x: x.str.contains(\"mixed\", case=False)).any(axis=1) &\n",
    "                        product_category[[\"desc\"]].apply(lambda x: x.str.contains(\"disk\", case=False)).any(axis=1) &\n",
    "                        (product_category[\"price\"] >= 300)].sort_values(by='price', ascending=False)"
   ]
  },
  {
   "cell_type": "code",
   "execution_count": null,
   "metadata": {
    "colab": {
     "base_uri": "https://localhost:8080/",
     "height": 614
    },
    "executionInfo": {
     "elapsed": 301,
     "status": "ok",
     "timestamp": 1731954839601,
     "user": {
      "displayName": "Edicta Grullon",
      "userId": "06564017274082352377"
     },
     "user_tz": -60
    },
    "id": "xc5Zs8-oz8XV",
    "outputId": "b196867c-e68c-4673-e626-ff05f57393c1"
   },
   "outputs": [],
   "source": [
    "# Checking to see status of \"mixed\" sub-category for anything that could be recategorized\n",
    "product_category.loc[product_category[[\"sub-category\"]].apply(lambda x: x.str.contains(\"mixed\", case=False)).any(axis=1)].sort_values(by='price', ascending=False)"
   ]
  },
  {
   "cell_type": "code",
   "execution_count": null,
   "metadata": {
    "colab": {
     "base_uri": "https://localhost:8080/",
     "height": 1000
    },
    "executionInfo": {
     "elapsed": 235,
     "status": "ok",
     "timestamp": 1731954842756,
     "user": {
      "displayName": "Edicta Grullon",
      "userId": "06564017274082352377"
     },
     "user_tz": -60
    },
    "id": "MLaSf-xo22hX",
    "outputId": "1dde3e44-0623-4cb4-b05d-19ac60e5a30e"
   },
   "outputs": [],
   "source": [
    "product_category[\"sub-category\"].value_counts()"
   ]
  },
  {
   "cell_type": "code",
   "execution_count": null,
   "metadata": {
    "colab": {
     "base_uri": "https://localhost:8080/",
     "height": 523
    },
    "executionInfo": {
     "elapsed": 251,
     "status": "ok",
     "timestamp": 1731954846154,
     "user": {
      "displayName": "Edicta Grullon",
      "userId": "06564017274082352377"
     },
     "user_tz": -60
    },
    "id": "E6E5lQ6YC07g",
    "outputId": "339e04d0-3d75-4094-81b9-bf39a4516678"
   },
   "outputs": [],
   "source": [
    "product_category[\"category\"].value_counts()"
   ]
  },
  {
   "cell_type": "code",
   "execution_count": null,
   "metadata": {
    "colab": {
     "base_uri": "https://localhost:8080/"
    },
    "executionInfo": {
     "elapsed": 336,
     "status": "ok",
     "timestamp": 1731954849163,
     "user": {
      "displayName": "Edicta Grullon",
      "userId": "06564017274082352377"
     },
     "user_tz": -60
    },
    "id": "1U0kgwKFJ4CQ",
    "outputId": "3e071dde-139a-41f6-ffdd-7890b31dd585"
   },
   "outputs": [],
   "source": [
    "product_category.shape"
   ]
  },
  {
   "cell_type": "markdown",
   "metadata": {
    "id": "hyJKYchfY-Iq"
   },
   "source": [
    "# Exporting categorized products DataFrame as .csv"
   ]
  },
  {
   "cell_type": "code",
   "execution_count": null,
   "metadata": {
    "executionInfo": {
     "elapsed": 1130,
     "status": "ok",
     "timestamp": 1731954878406,
     "user": {
      "displayName": "Edicta Grullon",
      "userId": "06564017274082352377"
     },
     "user_tz": -60
    },
    "id": "iuwDAZJCY_ev"
   },
   "outputs": [],
   "source": [
    "# Saving the categorized products DataFrame as .cvs\n",
    "product_category.to_csv('../data/cleaned/products_categorized.csv', index=False)"
   ]
  },
  {
   "cell_type": "code",
   "execution_count": null,
   "metadata": {
    "colab": {
     "base_uri": "https://localhost:8080/"
    },
    "executionInfo": {
     "elapsed": 233,
     "status": "ok",
     "timestamp": 1731954880259,
     "user": {
      "displayName": "Edicta Grullon",
      "userId": "06564017274082352377"
     },
     "user_tz": -60
    },
    "id": "XSfdwcdBZYYx",
    "outputId": "bfe2d1a0-5971-4ce0-9bc2-984e2c4b74f4"
   },
   "outputs": [],
   "source": [
    "# Verifying exporting was successful\n",
    "file_verify = pd.read_csv('/data/cleaned/products_categorized.csv')\n",
    "print(df_verify)"
   ]
  }
 ],
 "metadata": {
  "colab": {
   "provenance": [
    {
     "file_id": "18_iOvSitSSt6iTgSDFbVhB-GeWYF7Gus",
     "timestamp": 1730984567696
    }
   ]
  },
  "kernelspec": {
   "display_name": "Python 3 (ipykernel)",
   "language": "python",
   "name": "python3"
  },
  "language_info": {
   "codemirror_mode": {
    "name": "ipython",
    "version": 3
   },
   "file_extension": ".py",
   "mimetype": "text/x-python",
   "name": "python",
   "nbconvert_exporter": "python",
   "pygments_lexer": "ipython3",
   "version": "3.12.7"
  }
 },
 "nbformat": 4,
 "nbformat_minor": 4
}
