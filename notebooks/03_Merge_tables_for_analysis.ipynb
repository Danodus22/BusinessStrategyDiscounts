{
 "cells": [
  {
   "cell_type": "code",
   "execution_count": null,
   "metadata": {
    "id": "8_O1e0NLC4H9"
   },
   "outputs": [],
   "source": [
    "import pandas as pd"
   ]
  },
  {
   "cell_type": "code",
   "execution_count": null,
   "metadata": {
    "id": "nO3JxhsZC-Ft"
   },
   "outputs": [],
   "source": [
    "# orders_cleaned.csv\n",
    "orders_cleaned = pd.read_csv('../data/cleaned/orders_cleaned.csv')\n",
    "\n",
    "# orderlines_cleaned.csv\n",
    "orderlines_cleaned = pd.read_csv('../data/cleaned/orderlines_cleaned.csv')\n",
    "\n",
    "# products_categorized.csv\n",
    "products_categorized = pd.read_csv('../data/cleaned/products_categorized.csv')\n",
    "\n",
    "# brands_cleaned.csv\n",
    "brands_cleaned = pd.read_csv('../data/cleaned/brands_cleaned.csv')"
   ]
  },
  {
   "cell_type": "code",
   "execution_count": null,
   "metadata": {
    "id": "u0b00nYUDavK"
   },
   "outputs": [],
   "source": [
    "# Copies of DataFrames for manipulation\n",
    "o_cl = orders_cleaned.copy()\n",
    "ol_cl = orderlines_cleaned.copy()\n",
    "p_cl = products_categorized.copy()\n",
    "b_cl = brands_cleaned.copy()"
   ]
  },
  {
   "cell_type": "markdown",
   "metadata": {
    "id": "YyuF3iqsE6hK"
   },
   "source": [
    "## Merging tables"
   ]
  },
  {
   "cell_type": "markdown",
   "metadata": {
    "id": "HZvsMuQmE8ds"
   },
   "source": [
    "### Merging orderlines with products_categorized"
   ]
  },
  {
   "cell_type": "code",
   "execution_count": null,
   "metadata": {
    "id": "Y91y3bYADAWU"
   },
   "outputs": [],
   "source": [
    "# Merging tables orderlines and products for analyses of price differences per unit\n",
    "ol_p_merge = ol_cl.merge(p_cl, on = 'sku', how = 'left')"
   ]
  },
  {
   "cell_type": "code",
   "execution_count": null,
   "metadata": {
    "id": "zHgjLWcrDCJy"
   },
   "outputs": [],
   "source": [
    "# Adding the column on differences\n",
    "ol_p_merge[\"discount\"] = ol_p_merge[\"price\"] - ol_p_merge[\"unit_price\"]"
   ]
  },
  {
   "cell_type": "code",
   "execution_count": null,
   "metadata": {
    "colab": {
     "base_uri": "https://localhost:8080/",
     "height": 204
    },
    "executionInfo": {
     "elapsed": 395,
     "status": "ok",
     "timestamp": 1731963466805,
     "user": {
      "displayName": "Edicta Grullon",
      "userId": "06564017274082352377"
     },
     "user_tz": -60
    },
    "id": "uZaCpZAqDDm2",
    "outputId": "65000a1b-b32b-4b2b-d5f7-43173707300a"
   },
   "outputs": [],
   "source": [
    "ol_p_merge.head(1)"
   ]
  },
  {
   "cell_type": "code",
   "execution_count": null,
   "metadata": {
    "id": "cffXpv7mDFSw"
   },
   "outputs": [],
   "source": [
    "# Saving the merged orderlines and products DataFrames with new calculated diff column as .cvs\n",
    "ol_p_merge.to_csv('/data/cleaned/orderlines_products_df.csv', index=False)"
   ]
  },
  {
   "cell_type": "code",
   "execution_count": null,
   "metadata": {
    "colab": {
     "base_uri": "https://localhost:8080/"
    },
    "executionInfo": {
     "elapsed": 336,
     "status": "ok",
     "timestamp": 1731963518115,
     "user": {
      "displayName": "Edicta Grullon",
      "userId": "06564017274082352377"
     },
     "user_tz": -60
    },
    "id": "68Yk-kaGDG9E",
    "outputId": "5a95b0f7-4219-4176-ae12-311ce3c71333"
   },
   "outputs": [],
   "source": [
    "# Verifying copying was successful\n",
    "df_verify = pd.read_csv('../data/cleaned/orderlines_products_df.csv')\n",
    "print(df_verify)"
   ]
  },
  {
   "cell_type": "markdown",
   "metadata": {
    "id": "sQo4-HuOFPOw"
   },
   "source": [
    "### Merging products_categorized with brands"
   ]
  },
  {
   "cell_type": "code",
   "execution_count": null,
   "metadata": {
    "id": "DJ575XSKFow3"
   },
   "outputs": [],
   "source": [
    "# Take the first 3 letters to a new column in products (helper for merging)\n",
    "p_cl[\"brand\"] = p_cl[\"sku\"].str[:3]\n",
    "\n",
    "# Merge the tables so that categories can also be created from the brands if necessary\n",
    "products_brands = p_cl.merge(b_cl, how = 'left', left_on = 'brand', right_on = 'short')\n",
    "products_brands.drop(['brand', 'short'], axis = 1, inplace = True)\n",
    "products_brands.rename(columns = {'long': 'brand'}, inplace = True)"
   ]
  },
  {
   "cell_type": "code",
   "execution_count": null,
   "metadata": {
    "colab": {
     "base_uri": "https://localhost:8080/",
     "height": 293
    },
    "executionInfo": {
     "elapsed": 277,
     "status": "ok",
     "timestamp": 1731964008083,
     "user": {
      "displayName": "Edicta Grullon",
      "userId": "06564017274082352377"
     },
     "user_tz": -60
    },
    "id": "Q6CpsBaQGMdI",
    "outputId": "2360c119-a41a-4b55-f5dc-c2a2986a1f85"
   },
   "outputs": [],
   "source": [
    "products_brands.head()"
   ]
  },
  {
   "cell_type": "code",
   "execution_count": null,
   "metadata": {
    "id": "djs2qC4IGql5"
   },
   "outputs": [],
   "source": [
    "# Saving the merged products_categorized and brands as .cvs file\n",
    "products_brands.to_csv('/data/cleaned/products_brands_df.csv', index=False)"
   ]
  },
  {
   "cell_type": "code",
   "execution_count": null,
   "metadata": {
    "colab": {
     "base_uri": "https://localhost:8080/"
    },
    "executionInfo": {
     "elapsed": 399,
     "status": "ok",
     "timestamp": 1731964154729,
     "user": {
      "displayName": "Edicta Grullon",
      "userId": "06564017274082352377"
     },
     "user_tz": -60
    },
    "id": "oGoanTd0GsgG",
    "outputId": "465b8f1c-9694-42ea-ef68-898cccaa502d"
   },
   "outputs": [],
   "source": [
    "# Verifying copying was successful\n",
    "df_verify = pd.read_csv('/data/cleaned/products_brands_df.csv')\n",
    "print(df_verify)"
   ]
  }
 ],
 "metadata": {
  "colab": {
   "authorship_tag": "ABX9TyO2bQSCzAA1Z0XS6SD3Rkmj",
   "mount_file_id": "1hyOIDnvCGqiAHp1vssa92AtCcQ4pAZfd",
   "provenance": []
  },
  "kernelspec": {
   "display_name": "Python 3 (ipykernel)",
   "language": "python",
   "name": "python3"
  },
  "language_info": {
   "codemirror_mode": {
    "name": "ipython",
    "version": 3
   },
   "file_extension": ".py",
   "mimetype": "text/x-python",
   "name": "python",
   "nbconvert_exporter": "python",
   "pygments_lexer": "ipython3",
   "version": "3.12.7"
  }
 },
 "nbformat": 4,
 "nbformat_minor": 4
}
