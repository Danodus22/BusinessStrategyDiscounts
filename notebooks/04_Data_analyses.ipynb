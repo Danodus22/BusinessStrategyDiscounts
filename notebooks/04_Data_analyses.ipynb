{
 "cells": [
  {
   "cell_type": "markdown",
   "metadata": {
    "id": "tyGApKa6fbEn"
   },
   "source": [
    "# Pre-work steps"
   ]
  },
  {
   "cell_type": "code",
   "execution_count": null,
   "metadata": {
    "executionInfo": {
     "elapsed": 826,
     "status": "ok",
     "timestamp": 1732361529662,
     "user": {
      "displayName": "Edicta Grullon",
      "userId": "06564017274082352377"
     },
     "user_tz": -60
    },
    "id": "eptXZeAYBAXX"
   },
   "outputs": [],
   "source": [
    "import pandas as pd\n",
    "import numpy as np\n",
    "import seaborn as sns\n",
    "import matplotlib.pyplot as plt\n",
    "import matplotlib.ticker as mtick\n",
    "from matplotlib.ticker import FuncFormatter, MaxNLocator\n",
    "from sklearn.linear_model import LinearRegression"
   ]
  },
  {
   "cell_type": "code",
   "execution_count": null,
   "metadata": {
    "executionInfo": {
     "elapsed": 4,
     "status": "ok",
     "timestamp": 1732361530577,
     "user": {
      "displayName": "Edicta Grullon",
      "userId": "06564017274082352377"
     },
     "user_tz": -60
    },
    "id": "zkEk3-z-E5ZQ"
   },
   "outputs": [],
   "source": [
    "# Display Options\n",
    "pd.set_option('display.min_rows', 25)\n",
    "pd.set_option('display.max_rows', 100)\n",
    "pd.set_option(\"display.max_colwidth\", 100)\n",
    "pd.set_option(\"display.float_format\", lambda x: \"%.2f\" % x)"
   ]
  },
  {
   "cell_type": "code",
   "execution_count": null,
   "metadata": {
    "executionInfo": {
     "elapsed": 4,
     "status": "ok",
     "timestamp": 1732361534962,
     "user": {
      "displayName": "Edicta Grullon",
      "userId": "06564017274082352377"
     },
     "user_tz": -60
    },
    "id": "fX7IOoOrl5RZ"
   },
   "outputs": [],
   "source": [
    "# Color palette for plotting\n",
    "color_palette = ['#B4D8B2', '#4572C5']"
   ]
  },
  {
   "cell_type": "markdown",
   "metadata": {
    "id": "BMg_yrgUBjYe"
   },
   "source": [
    "Stand-alone tables"
   ]
  },
  {
   "cell_type": "code",
   "execution_count": null,
   "metadata": {
    "executionInfo": {
     "elapsed": 10852,
     "status": "ok",
     "timestamp": 1732361545810,
     "user": {
      "displayName": "Edicta Grullon",
      "userId": "06564017274082352377"
     },
     "user_tz": -60
    },
    "id": "pjr4JId8BQuK"
   },
   "outputs": [],
   "source": [
    "# orders_cleaned.csv\n",
    "orders_cleaned = pd.read_csv('../data/cleaned/orders_cleaned.csv')\n",
    "\n",
    "# orderlines_cleaned.csv\n",
    "orderlines_cleaned = pd.read_csv('../data/cleaned/orderlines_cleaned.csv')\n",
    "\n",
    "# products_categorized.csv\n",
    "products_categorized = pd.read_csv('../data/cleaned/products_categorized.csv')\n",
    "\n",
    "# brands_cleaned.csv\n",
    "brands_clean = pd.read_csv('../data/cleaned/brands_cleaned.csv')"
   ]
  },
  {
   "cell_type": "code",
   "execution_count": null,
   "metadata": {
    "executionInfo": {
     "elapsed": 9,
     "status": "ok",
     "timestamp": 1732361545811,
     "user": {
      "displayName": "Edicta Grullon",
      "userId": "06564017274082352377"
     },
     "user_tz": -60
    },
    "id": "TZglCznUDRSn"
   },
   "outputs": [],
   "source": [
    "# Copies of stand-alone DataFrames for manipulation\n",
    "o_cl = orders_cleaned.copy()\n",
    "ol_cl = orderlines_cleaned.copy()\n",
    "p_cl = products_categorized.copy()\n",
    "b_cl = brands_cleaned.copy()"
   ]
  },
  {
   "cell_type": "code",
   "execution_count": null,
   "metadata": {
    "executionInfo": {
     "elapsed": 8,
     "status": "ok",
     "timestamp": 1732361545811,
     "user": {
      "displayName": "Edicta Grullon",
      "userId": "06564017274082352377"
     },
     "user_tz": -60
    },
    "id": "op9F8ddFI4ah"
   },
   "outputs": [],
   "source": [
    "o_cl[\"created_date\"] = pd.to_datetime(o_cl[\"created_date\"])\n",
    "ol_cl[\"date\"] = pd.to_datetime(ol_cl[\"date\"])"
   ]
  },
  {
   "cell_type": "markdown",
   "metadata": {
    "id": "2mvR-EtkBk0v"
   },
   "source": [
    "Merged tables"
   ]
  },
  {
   "cell_type": "code",
   "execution_count": null,
   "metadata": {
    "executionInfo": {
     "elapsed": 9383,
     "status": "ok",
     "timestamp": 1732361555187,
     "user": {
      "displayName": "Edicta Grullon",
      "userId": "06564017274082352377"
     },
     "user_tz": -60
    },
    "id": "b4pJbylJBmyH"
   },
   "outputs": [],
   "source": [
    "# orderlines_products_df.csv\n",
    "orderlines_products_df = pd.read_csv('../data/cleaned/orderlines_products_df.csv')\n",
    "\n",
    "# products_brands_df.csv\n",
    "products_brands_df = pd.read_csv('../data/cleaned/products_brands_df.csv')"
   ]
  },
  {
   "cell_type": "code",
   "execution_count": null,
   "metadata": {
    "executionInfo": {
     "elapsed": 54,
     "status": "ok",
     "timestamp": 1732361555208,
     "user": {
      "displayName": "Edicta Grullon",
      "userId": "06564017274082352377"
     },
     "user_tz": -60
    },
    "id": "jY8Lssq2D17J"
   },
   "outputs": [],
   "source": [
    "# Copies of merged DataFrames for manipulation\n",
    "ol_p = orderlines_products_df.copy()\n",
    "p_b = products_brands_df.copy()"
   ]
  },
  {
   "cell_type": "code",
   "execution_count": null,
   "metadata": {
    "executionInfo": {
     "elapsed": 53,
     "status": "ok",
     "timestamp": 1732361555208,
     "user": {
      "displayName": "Edicta Grullon",
      "userId": "06564017274082352377"
     },
     "user_tz": -60
    },
    "id": "lwZAE-v8JKNw"
   },
   "outputs": [],
   "source": [
    "ol_p[\"date\"] = pd.to_datetime(ol_p[\"date\"])"
   ]
  },
  {
   "cell_type": "code",
   "execution_count": null,
   "metadata": {
    "colab": {
     "base_uri": "https://localhost:8080/"
    },
    "executionInfo": {
     "elapsed": 51,
     "status": "ok",
     "timestamp": 1732361555208,
     "user": {
      "displayName": "Edicta Grullon",
      "userId": "06564017274082352377"
     },
     "user_tz": -60
    },
    "id": "gWoZ4EcwIrxa",
    "outputId": "d2bd80e5-c503-463f-d6de-e4fd4d7fc5ac"
   },
   "outputs": [],
   "source": [
    "ol_p.info()"
   ]
  },
  {
   "cell_type": "code",
   "execution_count": null,
   "metadata": {
    "executionInfo": {
     "elapsed": 35,
     "status": "ok",
     "timestamp": 1732361555208,
     "user": {
      "displayName": "Edicta Grullon",
      "userId": "06564017274082352377"
     },
     "user_tz": -60
    },
    "id": "ttSFmTZEgZ3r"
   },
   "outputs": [],
   "source": [
    "# Merging the orderlines_products already merged table with the brands table (on 'sku' then replacing short/long for 'brand')\n",
    "ol_p[\"brand\"] = ol_p[\"sku\"].str[:3]\n",
    "\n",
    "ol_p_b = ol_p.merge(b_cl, how='left', left_on='brand', right_on='short')\n",
    "ol_p_b.drop(['brand', 'short'], axis=1, inplace=True)\n",
    "ol_p_b.rename(columns={'long': 'brand'}, inplace=True)"
   ]
  },
  {
   "cell_type": "code",
   "execution_count": null,
   "metadata": {
    "executionInfo": {
     "elapsed": 35,
     "status": "ok",
     "timestamp": 1732361555208,
     "user": {
      "displayName": "Edicta Grullon",
      "userId": "06564017274082352377"
     },
     "user_tz": -60
    },
    "id": "lWx3ffa5jQfI"
   },
   "outputs": [],
   "source": [
    "# Adding orders to the ol_p_b merged tables to have all tables as one\n",
    "all_tables = ol_p_b.merge(o_cl, how='left', left_on='id_order', right_on='order_id')"
   ]
  },
  {
   "cell_type": "code",
   "execution_count": null,
   "metadata": {},
   "outputs": [],
   "source": [
    "all_tables[\"created_date\"] = pd.to_datetime(all_tables[\"created_date\"])"
   ]
  },
  {
   "cell_type": "code",
   "execution_count": null,
   "metadata": {},
   "outputs": [],
   "source": [
    "all_tables.head()"
   ]
  },
  {
   "cell_type": "code",
   "execution_count": null,
   "metadata": {
    "executionInfo": {
     "elapsed": 35,
     "status": "ok",
     "timestamp": 1732361555209,
     "user": {
      "displayName": "Edicta Grullon",
      "userId": "06564017274082352377"
     },
     "user_tz": -60
    },
    "id": "NOiHMCpap-v5"
   },
   "outputs": [],
   "source": [
    "# Creating a new column for \"delivery\" (difference between total_paid and unit_price_total, which could be explained by delivery costs)\n",
    "all_tables['delivery'] = all_tables['total_paid'] - all_tables['unit_price_total']"
   ]
  },
  {
   "cell_type": "markdown",
   "metadata": {
    "id": "cGyjeLpplJoO"
   },
   "source": [
    "# Analyses"
   ]
  },
  {
   "cell_type": "markdown",
   "metadata": {
    "id": "_B2Oqj_i2YXv"
   },
   "source": [
    "## New and calculated columns"
   ]
  },
  {
   "cell_type": "code",
   "execution_count": null,
   "metadata": {
    "executionInfo": {
     "elapsed": 1019,
     "status": "ok",
     "timestamp": 1732361556194,
     "user": {
      "displayName": "Edicta Grullon",
      "userId": "06564017274082352377"
     },
     "user_tz": -60
    },
    "id": "jW09pEQiryuD"
   },
   "outputs": [],
   "source": [
    "# Converting datetime to date (removing times) and adding additional columns (\"quarter\" and \"year\")\n",
    "# all_tables[\"created_date\"] = all_tables[\"created_date\"].dt.date\n",
    "all_tables[\"quarter\"] = all_tables[\"created_date\"].dt.quarter\n",
    "all_tables[\"year\"] = all_tables[\"created_date\"].dt.year\n",
    "all_tables[\"week\"] = all_tables[\"created_date\"].dt.isocalendar().week\n",
    "\n",
    "# Positive \"%_change\" = % discount to customer; negative \"%_change\" = % gains\n",
    "all_tables['%_change'] = ((all_tables['discount']) / all_tables['price'].replace(0, float('nan'))) * 100"
   ]
  },
  {
   "cell_type": "code",
   "execution_count": null,
   "metadata": {
    "executionInfo": {
     "elapsed": 87,
     "status": "ok",
     "timestamp": 1732361556194,
     "user": {
      "displayName": "Edicta Grullon",
      "userId": "06564017274082352377"
     },
     "user_tz": -60
    },
    "id": "DxBTOGC6Xy3r"
   },
   "outputs": [],
   "source": [
    "# Creating a calculated \"price_total\" column, using column \"price\" instead of \"unit_price\" (similar to the calculated \"unit_price_total\" column)\n",
    "all_tables['price_total'] = all_tables['price'] * all_tables['product_quantity']\n",
    "\n",
    "# Looking at the difference between price_total and unit_price_total\n",
    "# (positive number=discount/loss to company, negative number=higher price/win for company)\n",
    "all_tables['dif_base_price'] = all_tables['price_total'] - all_tables['unit_price_total']"
   ]
  },
  {
   "cell_type": "code",
   "execution_count": null,
   "metadata": {
    "executionInfo": {
     "elapsed": 86,
     "status": "ok",
     "timestamp": 1732361556194,
     "user": {
      "displayName": "Edicta Grullon",
      "userId": "06564017274082352377"
     },
     "user_tz": -60
    },
    "id": "JOcpo_ihxr0S"
   },
   "outputs": [],
   "source": [
    "losses = all_tables[all_tables['dif_base_price'] > 0] # loss to company (earnings below \"base\" price)\n",
    "gains = all_tables[all_tables['dif_base_price'] < 0] # gains to company (earnings above \"base\" price)\n",
    "\n",
    "sum_losses = losses['dif_base_price'].sum()\n",
    "sum_gains = gains['dif_base_price'].sum()"
   ]
  },
  {
   "cell_type": "markdown",
   "metadata": {
    "id": "4SeSn7jIte2P"
   },
   "source": [
    "## Reorganized and selected columns"
   ]
  },
  {
   "cell_type": "code",
   "execution_count": null,
   "metadata": {
    "executionInfo": {
     "elapsed": 86,
     "status": "ok",
     "timestamp": 1732361556194,
     "user": {
      "displayName": "Edicta Grullon",
      "userId": "06564017274082352377"
     },
     "user_tz": -60
    },
    "id": "S5CmKRA8kfsw"
   },
   "outputs": [],
   "source": [
    "all_tables = all_tables[['order_id','created_date','sku', 'in_stock', 'name', 'desc','brand','category','sub-category','condition','price','unit_price','discount','%_change','delivery','unit_price_total','total_paid','price_total','dif_base_price','product_quantity','quarter','year','week']]"
   ]
  },
  {
   "cell_type": "code",
   "execution_count": null,
   "metadata": {
    "colab": {
     "base_uri": "https://localhost:8080/",
     "height": 352
    },
    "executionInfo": {
     "elapsed": 85,
     "status": "ok",
     "timestamp": 1732361556194,
     "user": {
      "displayName": "Edicta Grullon",
      "userId": "06564017274082352377"
     },
     "user_tz": -60
    },
    "id": "uWwyrGa104uj",
    "outputId": "216d1a49-2f84-4b53-a6aa-dd08ad56db4f"
   },
   "outputs": [],
   "source": [
    "all_tables.head(2)"
   ]
  },
  {
   "cell_type": "markdown",
   "metadata": {
    "id": "Ef_rPyu5cQ94"
   },
   "source": [
    "## What is the time period that the dataset covers?"
   ]
  },
  {
   "cell_type": "code",
   "execution_count": null,
   "metadata": {
    "colab": {
     "base_uri": "https://localhost:8080/"
    },
    "executionInfo": {
     "elapsed": 83,
     "status": "ok",
     "timestamp": 1732361556194,
     "user": {
      "displayName": "Edicta Grullon",
      "userId": "06564017274082352377"
     },
     "user_tz": -60
    },
    "id": "vuVrkVgaoov4",
    "outputId": "8f834030-414f-498f-c422-a4564f085bdd"
   },
   "outputs": [],
   "source": [
    "# The complete dataset date ranges = 2017-01-01 to 2018-03-14\n",
    "all_tables[\"created_date\"].min(), all_tables[\"created_date\"].max()"
   ]
  },
  {
   "cell_type": "code",
   "execution_count": null,
   "metadata": {
    "colab": {
     "base_uri": "https://localhost:8080/"
    },
    "executionInfo": {
     "elapsed": 80,
     "status": "ok",
     "timestamp": 1732361556194,
     "user": {
      "displayName": "Edicta Grullon",
      "userId": "06564017274082352377"
     },
     "user_tz": -60
    },
    "id": "21TrMGySj263",
    "outputId": "ab143939-192b-49f2-b162-a7becce46c46"
   },
   "outputs": [],
   "source": [
    "# Amount of time represented by the dataset? 437 days\n",
    "all_tables[\"created_date\"].max()- all_tables[\"created_date\"].min()"
   ]
  },
  {
   "cell_type": "markdown",
   "metadata": {
    "id": "D51bDZMOcdGv"
   },
   "source": [
    "## How many products are there?"
   ]
  },
  {
   "cell_type": "code",
   "execution_count": null,
   "metadata": {
    "colab": {
     "base_uri": "https://localhost:8080/"
    },
    "executionInfo": {
     "elapsed": 78,
     "status": "ok",
     "timestamp": 1732361556198,
     "user": {
      "displayName": "Edicta Grullon",
      "userId": "06564017274082352377"
     },
     "user_tz": -60
    },
    "id": "8Zag3KtwwhRy",
    "outputId": "514ab299-ce17-44fd-f953-fddd2939378d"
   },
   "outputs": [],
   "source": [
    "# 9992 products in total\n",
    "p_cl['sku'].nunique()"
   ]
  },
  {
   "cell_type": "code",
   "execution_count": null,
   "metadata": {
    "colab": {
     "base_uri": "https://localhost:8080/",
     "height": 125
    },
    "executionInfo": {
     "elapsed": 75,
     "status": "ok",
     "timestamp": 1732361556198,
     "user": {
      "displayName": "Edicta Grullon",
      "userId": "06564017274082352377"
     },
     "user_tz": -60
    },
    "id": "9dLTzOd2sIpF",
    "outputId": "18b1a618-61bd-4d6a-f66a-545bb34583df"
   },
   "outputs": [],
   "source": [
    "# 4537 unique products in 2017\n",
    "# 2559 new products came in for 2018\n",
    "\n",
    "# Grouping by 'year' and calculating the number of unique 'sku' (products)\n",
    "unique_sku_by_year = all_tables.groupby('year')['sku'].nunique().reset_index()\n",
    "\n",
    "# Rename 'sku' column for clarity\n",
    "unique_sku_by_year.columns = ['year', 'unique_sku_count']\n",
    "unique_sku_by_year"
   ]
  },
  {
   "cell_type": "markdown",
   "metadata": {
    "id": "XW19WaFXpgYQ"
   },
   "source": [
    "## What is the total revenue?"
   ]
  },
  {
   "cell_type": "code",
   "execution_count": null,
   "metadata": {
    "executionInfo": {
     "elapsed": 72,
     "status": "ok",
     "timestamp": 1732361556198,
     "user": {
      "displayName": "Edicta Grullon",
      "userId": "06564017274082352377"
     },
     "user_tz": -60
    },
    "id": "r7jHccAww84T"
   },
   "outputs": [],
   "source": [
    "# Revenue being calculated as gross income\n",
    "# for our dataset ='total_paid', as it includes the shipment/delivery costs, and the completed orders('state'==\"Completed\")"
   ]
  },
  {
   "cell_type": "code",
   "execution_count": null,
   "metadata": {
    "colab": {
     "base_uri": "https://localhost:8080/"
    },
    "executionInfo": {
     "elapsed": 72,
     "status": "ok",
     "timestamp": 1732361556198,
     "user": {
      "displayName": "Edicta Grullon",
      "userId": "06564017274082352377"
     },
     "user_tz": -60
    },
    "id": "gm1SyJezq367",
    "outputId": "9b9650a9-c0c8-40d1-d705-75a6974bee1f"
   },
   "outputs": [],
   "source": [
    "# Total revenue for the time covered in the dataset= 11,803,686.56 Euros\n",
    "all_tables[\"total_paid\"].sum().round(2)"
   ]
  },
  {
   "cell_type": "code",
   "execution_count": null,
   "metadata": {
    "colab": {
     "base_uri": "https://localhost:8080/",
     "height": 178
    },
    "executionInfo": {
     "elapsed": 61,
     "status": "ok",
     "timestamp": 1732361556198,
     "user": {
      "displayName": "Edicta Grullon",
      "userId": "06564017274082352377"
     },
     "user_tz": -60
    },
    "id": "TZua_Twdp-Se",
    "outputId": "256362c7-a4c6-4db5-b2a4-dd9c7c5b63eb"
   },
   "outputs": [],
   "source": [
    "# Total revenue for onlt 2017 = 9,417,271.82 Euros, and for only 2018 (3+ months only)= 2,386,414.74 Euros\n",
    "all_tables.groupby('year')['total_paid'].sum()"
   ]
  },
  {
   "cell_type": "markdown",
   "metadata": {
    "id": "IvQeZSv6cIt1"
   },
   "source": [
    "## What are the most sold products?"
   ]
  },
  {
   "cell_type": "code",
   "execution_count": null,
   "metadata": {
    "colab": {
     "base_uri": "https://localhost:8080/",
     "height": 362
    },
    "executionInfo": {
     "elapsed": 964,
     "status": "ok",
     "timestamp": 1732361557102,
     "user": {
      "displayName": "Edicta Grullon",
      "userId": "06564017274082352377"
     },
     "user_tz": -60
    },
    "id": "ppQ4I9POpRCp",
    "outputId": "a4ba1959-2cca-4e82-a6f3-a6975b81f4e7"
   },
   "outputs": [],
   "source": [
    "all_tables.groupby(['sku','name','category','sub-category'])['product_quantity'].sum().nlargest(10).reset_index()"
   ]
  },
  {
   "cell_type": "markdown",
   "metadata": {
    "id": "C0Dy8L6gciFj"
   },
   "source": [
    "## What are the products that generate the most revenue?"
   ]
  },
  {
   "cell_type": "code",
   "execution_count": null,
   "metadata": {
    "colab": {
     "base_uri": "https://localhost:8080/",
     "height": 484
    },
    "executionInfo": {
     "elapsed": 2644,
     "status": "ok",
     "timestamp": 1732361559730,
     "user": {
      "displayName": "Edicta Grullon",
      "userId": "06564017274082352377"
     },
     "user_tz": -60
    },
    "id": "73XylTjixXtr",
    "outputId": "3d4e2b5d-0d17-4617-b42a-494dd00b89b3"
   },
   "outputs": [],
   "source": [
    "(\n",
    "all_tables.groupby(['order_id','sku','name','category', 'sub-category','price','discount','unit_price','product_quantity'])\n",
    "['total_paid'].sum().nlargest(10).reset_index()\n",
    ")"
   ]
  },
  {
   "cell_type": "markdown",
   "metadata": {
    "id": "7IxdGw6cdtTb"
   },
   "source": [
    "## Does revenue grow whenever discounts increase?"
   ]
  },
  {
   "cell_type": "code",
   "execution_count": null,
   "metadata": {
    "colab": {
     "base_uri": "https://localhost:8080/",
     "height": 724
    },
    "executionInfo": {
     "elapsed": 12779,
     "status": "ok",
     "timestamp": 1732361572488,
     "user": {
      "displayName": "Edicta Grullon",
      "userId": "06564017274082352377"
     },
     "user_tz": -60
    },
    "id": "wjcRrSenpXGr",
    "outputId": "6dbd48da-8220-490d-f027-d59e742e895b"
   },
   "outputs": [],
   "source": [
    "# Short answer: after a certain point, \"no\"\n",
    "# This did not seem to make a difference by year, although in 2017 the company was able to charge more than base price\n",
    "# in 2017 higher prices (\"earnings\" compared to base price) make up for some of the discounts?!\n",
    "sns.relplot(data=all_tables,\n",
    "            x=\"discount\",\n",
    "            y=\"total_paid\",\n",
    "            hue=\"year\",\n",
    "            height=7,\n",
    "            aspect=1.5,\n",
    "            palette=color_palette)"
   ]
  },
  {
   "cell_type": "code",
   "execution_count": null,
   "metadata": {
    "colab": {
     "base_uri": "https://localhost:8080/",
     "height": 724
    },
    "executionInfo": {
     "elapsed": 10857,
     "status": "ok",
     "timestamp": 1732361583320,
     "user": {
      "displayName": "Edicta Grullon",
      "userId": "06564017274082352377"
     },
     "user_tz": -60
    },
    "id": "6OHxPHCXd6Oo",
    "outputId": "a90dd510-0db3-49cd-9b82-07fe6901c63c"
   },
   "outputs": [],
   "source": [
    "# Opened packages receive the highest discounts (looking at complete dataset, 1+ years)\n",
    "sns.relplot(data=all_tables,\n",
    "            x=\"discount\",\n",
    "            y=\"total_paid\",\n",
    "            hue=\"condition\",\n",
    "            height=7,\n",
    "            aspect=1.5,\n",
    "            palette=color_palette)"
   ]
  },
  {
   "cell_type": "code",
   "execution_count": null,
   "metadata": {
    "colab": {
     "base_uri": "https://localhost:8080/",
     "height": 1000
    },
    "executionInfo": {
     "elapsed": 14152,
     "status": "ok",
     "timestamp": 1732361597469,
     "user": {
      "displayName": "Edicta Grullon",
      "userId": "06564017274082352377"
     },
     "user_tz": -60
    },
    "id": "BX-zHqzKeta6",
    "outputId": "53c9a511-07f0-47b9-d3a0-25e9387d8d8e"
   },
   "outputs": [],
   "source": [
    "# Specific categories sell more when discounted AND opened but does not bring a higher revenue (except for laptops)\n",
    "# Looking at complete dataset, 1 years and 3.5 months\n",
    "sns.relplot(data=all_tables,\n",
    "            x=\"discount\",\n",
    "            y=\"total_paid\",\n",
    "            hue=\"condition\",\n",
    "            col=\"category\",\n",
    "            palette=color_palette,\n",
    "            col_wrap=3)"
   ]
  },
  {
   "cell_type": "code",
   "execution_count": null,
   "metadata": {
    "colab": {
     "base_uri": "https://localhost:8080/",
     "height": 1000
    },
    "executionInfo": {
     "elapsed": 24776,
     "status": "ok",
     "timestamp": 1732361622238,
     "user": {
      "displayName": "Edicta Grullon",
      "userId": "06564017274082352377"
     },
     "user_tz": -60
    },
    "id": "GaSBQmAmfU-x",
    "outputId": "b124de4b-9504-48ab-f671-e52f739e27fc"
   },
   "outputs": [],
   "source": [
    "# Opened iMacs and iPhones that are opened receive the greatest discounts from all sub-categories\n",
    "sns.relplot(data=all_tables,\n",
    "            x=\"discount\",\n",
    "            y=\"total_paid\",\n",
    "            hue=\"condition\",\n",
    "            col=\"sub-category\",\n",
    "            palette=color_palette,\n",
    "            col_wrap=3)"
   ]
  },
  {
   "cell_type": "markdown",
   "metadata": {
    "id": "4PxORUMeyB1E"
   },
   "source": [
    "## Development of orders and revenue over time"
   ]
  },
  {
   "cell_type": "markdown",
   "metadata": {
    "id": "axdRtVei4RCE"
   },
   "source": [
    "The board reported \"an increase in orders placed but decrease in total revenue\". What does a longer-term trend look like?\n",
    "\n",
    "\n"
   ]
  },
  {
   "cell_type": "markdown",
   "metadata": {
    "id": "65BgA8A_yGkV"
   },
   "source": [
    "### Evolution of total orders over time (quarters) - 2017 vs 2018"
   ]
  },
  {
   "cell_type": "code",
   "execution_count": null,
   "metadata": {
    "executionInfo": {
     "elapsed": 28,
     "status": "ok",
     "timestamp": 1732361622239,
     "user": {
      "displayName": "Edicta Grullon",
      "userId": "06564017274082352377"
     },
     "user_tz": -60
    },
    "id": "xirvf3OXxID_"
   },
   "outputs": [],
   "source": [
    "grouped_data_orders = all_tables.groupby(['quarter','year']).size().reset_index(name='order_count')"
   ]
  },
  {
   "cell_type": "code",
   "execution_count": null,
   "metadata": {
    "colab": {
     "base_uri": "https://localhost:8080/",
     "height": 570
    },
    "executionInfo": {
     "elapsed": 27,
     "status": "ok",
     "timestamp": 1732361622239,
     "user": {
      "displayName": "Edicta Grullon",
      "userId": "06564017274082352377"
     },
     "user_tz": -60
    },
    "id": "BTHUtO5qLyTE",
    "outputId": "84e6ae5e-ab88-4ea7-e679-b09c7f8f9132"
   },
   "outputs": [],
   "source": [
    "# 2018 Q1 sales were lower than 2017 Q4, BUT, they were higher than 2017 Q1\n",
    "# Positive trend in sales increasing\n",
    "\n",
    "# Define a formatter function for the y-axis\n",
    "def yaxis_format(tick, pos):\n",
    "    return f'{tick / 1000:.1f} T'  # Divide by 1000 and add \"T\"\n",
    "\n",
    "# Create the plot\n",
    "catplot = sns.catplot(\n",
    "    data=grouped_data_orders,\n",
    "    x=\"quarter\",\n",
    "    y=\"order_count\",\n",
    "    hue=\"year\",\n",
    "    kind=\"bar\",\n",
    "    palette=color_palette,\n",
    "    aspect=2,  # Make the plot wider\n",
    "    height=6   # Adjust the height\n",
    ")\n",
    "\n",
    "# Format the y-axis\n",
    "catplot.ax.yaxis.set_major_formatter(FuncFormatter(yaxis_format))\n",
    "\n",
    "# Add title and axis labels\n",
    "plt.title(\"Orders Count by Quarters in 2017 and 2018\")\n",
    "plt.ylabel(\"Completed Orders\")\n",
    "plt.xlabel(\"Quarters\")\n",
    "\n",
    "# Show the plot\n",
    "plt.show()"
   ]
  },
  {
   "cell_type": "markdown",
   "metadata": {
    "id": "-Bi5PnZeyd2U"
   },
   "source": [
    "### Evolution of revenue over time (quarters) - 2017 vs 2018"
   ]
  },
  {
   "cell_type": "code",
   "execution_count": null,
   "metadata": {
    "executionInfo": {
     "elapsed": 23,
     "status": "ok",
     "timestamp": 1732361622868,
     "user": {
      "displayName": "Edicta Grullon",
      "userId": "06564017274082352377"
     },
     "user_tz": -60
    },
    "id": "Cl6Cr8fAy_-O"
   },
   "outputs": [],
   "source": [
    "grouped_data_revenue= all_tables.groupby(['quarter', 'year'])['total_paid'].sum().reset_index(name='total_revenue')"
   ]
  },
  {
   "cell_type": "code",
   "execution_count": null,
   "metadata": {
    "colab": {
     "base_uri": "https://localhost:8080/",
     "height": 542
    },
    "executionInfo": {
     "elapsed": 22,
     "status": "ok",
     "timestamp": 1732361622868,
     "user": {
      "displayName": "Edicta Grullon",
      "userId": "06564017274082352377"
     },
     "user_tz": -60
    },
    "id": "Jv8fNJVK2j6J",
    "outputId": "b92de165-aa0c-4e41-c8df-3f35b64fd4d7"
   },
   "outputs": [],
   "source": [
    "# 2018 Q1 revenue was lower than in 2017 Q4, BUT, revenue was higher than in 2017 Q1\n",
    "# Positive trend in revenue development\n",
    "\n",
    "sns.catplot(\n",
    "    data=grouped_data_revenue,\n",
    "    x=\"quarter\",\n",
    "    y=\"total_revenue\",\n",
    "    hue=\"year\",\n",
    "    kind=\"bar\",\n",
    "    palette=color_palette,\n",
    "    aspect=2,  # Make the plot wider\n",
    "    height=6   # Adjust the height\n",
    ")\n",
    "\n",
    "# Customizing the y-axis formatting\n",
    "ax = plt.gca()  # Get the current axis\n",
    "#ax.yaxis.set_major_formatter(mtick.StrMethodFormatter('€{x:,.0f}'))\n",
    "ax.yaxis.set_major_formatter(mtick.FuncFormatter(lambda x, _: f'€{x/1e6:.1f}M'))\n",
    "\n",
    "# Adding titles to show in plot\n",
    "plt.title(\"Total Revenue by Quarters in 2017 and 2018\")\n",
    "plt.ylabel(\"Total Revenue (Euros)\")\n",
    "plt.xlabel(\"Quarters\")\n",
    "plt.show()"
   ]
  },
  {
   "cell_type": "markdown",
   "metadata": {
    "id": "kyKRoYZr4qmr"
   },
   "source": [
    "### Seasons and sales"
   ]
  },
  {
   "cell_type": "markdown",
   "metadata": {
    "id": "Ho_-SadOpC54"
   },
   "source": [
    "Are there seasonal patterns in the evolution of orders completed? (any periods of highest orders completed/peaks, vs lowest orders completed/valleys?)"
   ]
  },
  {
   "cell_type": "code",
   "execution_count": null,
   "metadata": {
    "executionInfo": {
     "elapsed": 21,
     "status": "ok",
     "timestamp": 1732361622869,
     "user": {
      "displayName": "Edicta Grullon",
      "userId": "06564017274082352377"
     },
     "user_tz": -60
    },
    "id": "DR-GhUCoh1hX"
   },
   "outputs": [],
   "source": [
    "grouped_data_dates_orders = all_tables.groupby(['week','year']).size().reset_index(name='order_count')"
   ]
  },
  {
   "cell_type": "code",
   "execution_count": null,
   "metadata": {
    "colab": {
     "base_uri": "https://localhost:8080/",
     "height": 570
    },
    "executionInfo": {
     "elapsed": 21,
     "status": "ok",
     "timestamp": 1732361622869,
     "user": {
      "displayName": "Edicta Grullon",
      "userId": "06564017274082352377"
     },
     "user_tz": -60
    },
    "id": "3JwWkY_O6Qxm",
    "outputId": "fd290453-3c37-4205-e46c-4e14f1b8c8ca"
   },
   "outputs": [],
   "source": [
    "sns.catplot(data=grouped_data_dates_orders,\n",
    "            x=\"week\",\n",
    "            y=\"order_count\",\n",
    "            hue=\"year\",\n",
    "            kind=\"bar\",\n",
    "            palette=color_palette,\n",
    "            height=6,\n",
    "            aspect=2)\n",
    "\n",
    "plt.title(\"Orders Count by Weeks in 2017 and 2018\")\n",
    "plt.ylabel(\"Completed Orders\")\n",
    "plt.xlabel(\"Weeks\")\n",
    "plt.show()"
   ]
  },
  {
   "cell_type": "markdown",
   "metadata": {
    "id": "xYEhQ-dL6j8e"
   },
   "source": [
    "### Seasons and revenue"
   ]
  },
  {
   "cell_type": "markdown",
   "metadata": {
    "id": "X4XjAiwopPWf"
   },
   "source": [
    "Are there seasonal patterns in the evolution of sales? (any periods of highest sales/peaks, vs lowest sales/valleys?)"
   ]
  },
  {
   "cell_type": "code",
   "execution_count": null,
   "metadata": {
    "executionInfo": {
     "elapsed": 19,
     "status": "ok",
     "timestamp": 1732361622869,
     "user": {
      "displayName": "Edicta Grullon",
      "userId": "06564017274082352377"
     },
     "user_tz": -60
    },
    "id": "7zH8GSntqKa4"
   },
   "outputs": [],
   "source": [
    "grouped_data_dates_revenue = all_tables.groupby(['week','year'])['total_paid'].sum().reset_index(name='total_revenue')"
   ]
  },
  {
   "cell_type": "code",
   "execution_count": null,
   "metadata": {},
   "outputs": [],
   "source": [
    "# Monthly Revenue Aggregation\n",
    "ol_p['month'] = ol_p['date'].dt.month\n",
    "monthly_revenue = ol_p.groupby('month')['unit_price_total'].sum()\n",
    "\n",
    "# Weekly Revenue Bar Chart\n",
    "sns.set(style=\"white\")\n",
    "plt.figure(figsize=(12, 6))\n",
    "sns.lineplot(x=monthly_revenue.index, y=monthly_revenue.values, marker='o', color='skyblue')\n",
    "\n",
    "# Add titles and axis labels\n",
    "plt.title('Monthly revenue', fontsize=16)\n",
    "plt.xlabel('Monthly of the year', fontsize=12)\n",
    "plt.ylabel('Total revenue', fontsize=12)\n",
    "\n",
    "# Show plot\n",
    "plt.show()"
   ]
  },
  {
   "cell_type": "code",
   "execution_count": null,
   "metadata": {},
   "outputs": [],
   "source": [
    "# Weekly Revenue Aggregation\n",
    "ol_p['week'] = ol_p['date'].dt.isocalendar().week\n",
    "weekly_revenue = ol_p.groupby('week')['unit_price_total'].sum()\n",
    "\n",
    "# Weekly Revenue Bar Chart\n",
    "sns.set(style=\"white\")\n",
    "plt.figure(figsize=(12, 6))\n",
    "sns.lineplot(x=weekly_revenue.index, y=weekly_revenue.values, marker='o', color='skyblue')\n",
    "\n",
    "# Add titles and axis labels\n",
    "plt.title('Weekly revenue', fontsize=16)\n",
    "plt.xlabel('Week of the year', fontsize=12)\n",
    "plt.ylabel('Total revenue', fontsize=12)\n",
    "\n",
    "# Show plot\n",
    "plt.show()"
   ]
  },
  {
   "cell_type": "code",
   "execution_count": null,
   "metadata": {},
   "outputs": [],
   "source": [
    "# Filter orders for Christmas\n",
    "# christmas_period = ol_p[(ol_p['date'].dt.month == 11) & (ol_p['date'].dt.day >= 30) & (ol_p['date'].dt.month == 12) & (ol_p['date'].dt.day <= 23)]\n",
    "\n",
    "# Total sales during Christmas\n",
    "# christmas_revenue = christmas_period['unit_price_total'].sum()\n",
    "\n",
    "# Total revenue over the whole year\n",
    "# total_revenue = ol_p['unit_price_total'].sum()\n",
    "\n",
    "# Calculate the revenue share of Christmas\n",
    "# christmas_revenue_percentage = (christmas_revenue / total_revenue) * 100\n",
    "# print(f\"Share of sales from Christmas: {christmas_revenue_percentage:.2f}%\")\n",
    "\n",
    "# Assumption: Black Friday falls on the last Friday in November\n",
    "# black_friday = ol_p[ol_p['date'].dt.month == 11]\n",
    "# black_friday = black_friday[black_friday['date'].dt.weekday == 4]\n",
    "\n",
    "# black_friday_revenue = black_friday['unit_price_total'].sum()\n",
    "\n",
    "# Calculate Black Friday's revenue share\n",
    "# black_friday_revenue_percentage = (black_friday_revenue / total_revenue) * 100\n",
    "# print(f\"Share of sales from Black Friday: {black_friday_revenue_percentage:.2f}%\")"
   ]
  },
  {
   "cell_type": "markdown",
   "metadata": {},
   "source": [
    "### Products & categories on Christmas & Black friday"
   ]
  },
  {
   "cell_type": "code",
   "execution_count": null,
   "metadata": {},
   "outputs": [],
   "source": [
    "# Filter for Christmas\n",
    "christmas_data = ol_p[(ol_p['date'] >= '2017-12-20') & (ol_p['date'] <= '2017-12-26')]\n",
    "\n",
    "# Christmas analysis\n",
    "# Frequently sold Products at Christmas\n",
    "christmas_top_products = (\n",
    "    christmas_data.groupby('name')['product_quantity']\n",
    "    .sum()\n",
    "    .sort_values(ascending=False)\n",
    ")\n",
    "# Sales per category at Christmas\n",
    "christmas_revenue_by_category = (\n",
    "    christmas_data.groupby('category')['unit_price_total']\n",
    "    .sum()\n",
    "    .sort_values(ascending=False)\n",
    ")\n",
    "\n",
    "print(\"Top 10 products for christmas:\")\n",
    "print(christmas_top_products.nlargest(10))\n",
    "\n",
    "print(\"\\nRevenue per Category for christmas:\")\n",
    "print(christmas_revenue_by_category.nlargest(10))"
   ]
  },
  {
   "cell_type": "code",
   "execution_count": null,
   "metadata": {},
   "outputs": [],
   "source": [
    "# Filter for Black-Friday\n",
    "black_friday_data = ol_p[(ol_p['date'] >= '2017-11-01') & (ol_p['date'] <= '2017-11-30')]\n",
    "\n",
    "# Black-Friday\n",
    "# Frequently Sold Products at Black Friday\n",
    "black_friday_top_products = (\n",
    "    black_friday_data.groupby('name')['product_quantity']\n",
    "    .sum()\n",
    "    .sort_values(ascending=False)\n",
    ")\n",
    "\n",
    "# Sales per category at Black Friday\n",
    "black_friday_revenue_by_category = (\n",
    "    black_friday_data.groupby('category')['unit_price_total']\n",
    "    .sum()\n",
    "    .sort_values(ascending=False)\n",
    ")\n",
    "\n",
    "print(\"\\nTop 10 products Black Friday:\")\n",
    "print(black_friday_top_products.nlargest(10))\n",
    "\n",
    "print(\"\\nRevenue per Category Black Friday:\")\n",
    "print(black_friday_revenue_by_category.nlargest(10))"
   ]
  },
  {
   "cell_type": "code",
   "execution_count": null,
   "metadata": {
    "colab": {
     "base_uri": "https://localhost:8080/",
     "height": 565
    },
    "executionInfo": {
     "elapsed": 3188,
     "status": "ok",
     "timestamp": 1732361881249,
     "user": {
      "displayName": "Edicta Grullon",
      "userId": "06564017274082352377"
     },
     "user_tz": -60
    },
    "id": "esx0EUpeqK8J",
    "outputId": "aa01e923-864c-4570-87e4-52099b4c6bf1"
   },
   "outputs": [],
   "source": [
    "sns.catplot(\n",
    "    data=grouped_data_dates_revenue,\n",
    "    x=\"week\",\n",
    "    y=\"total_revenue\",\n",
    "    hue=\"year\",\n",
    "    kind=\"bar\",\n",
    "    #palette=color_palette,\n",
    "    palette=['#D9D9D9','#A6A6A6'],\n",
    "    height=6,\n",
    "    aspect=2\n",
    ")\n",
    "\n",
    "# Customizing the y-axis formatting\n",
    "ax = plt.gca()  # Get the current axis\n",
    "#ax.yaxis.set_major_formatter(mtick.StrMethodFormatter('€{x:,.0f}'))\n",
    "ax.yaxis.set_major_formatter(mtick.FuncFormatter(lambda x, _: f'€{x/1e6:.1f}M'))\n",
    "\n",
    "# Adding titles to show in plot\n",
    "plt.title(\"Revenue by Weeks in 2017 and 2018\")\n",
    "plt.ylabel(\"Revenue (Euros)\")\n",
    "plt.xlabel(\"Weeks\")\n",
    "plt"
   ]
  },
  {
   "cell_type": "markdown",
   "metadata": {
    "id": "WVmZ_C_NuKVo"
   },
   "source": [
    "## Discounts"
   ]
  },
  {
   "cell_type": "code",
   "execution_count": null,
   "metadata": {},
   "outputs": [],
   "source": [
    "# How many products are being discounted?\n",
    "count_products_discounted = ol_p['discount'] > 0\n",
    "count_products_discounted.count()"
   ]
  },
  {
   "cell_type": "code",
   "execution_count": 156,
   "metadata": {},
   "outputs": [
    {
     "data": {
      "image/png": "[encoded data removed]",
      "text/plain": [
       "<Figure size 1500x600 with 1 Axes>"
      ]
     },
     "metadata": {},
     "output_type": "display_data"
    }
   ],
   "source": [
    "# Calculate the discount percentage for each row\n",
    "ol_p['discount_percentage'] = (ol_p['discount'] / ol_p['unit_price']) * 100\n",
    "all_tables['discount_percentage'] = (all_tables['discount'] / all_tables['unit_price']) * 100\n",
    "\n",
    "# Average discount per product category\n",
    "plt.figure(figsize=(15, 6))\n",
    "\n",
    "sns.set(style=\"white\")\n",
    "sns.barplot(x='category', y='discount_percentage', data=ol_p, hue='category', palette='Blues', legend=False)\n",
    "\n",
    "# Add titles and axis labels\n",
    "plt.title('Average discount percentage per category', fontsize=12)\n",
    "plt.xlabel('Product category', fontsize=11)\n",
    "plt.ylabel('Average Discount Percentage (%)', fontsize=12)\n",
    "\n",
    "# Show plot\n",
    "# plt.xticks(rotation=45)  # Rotation of x-axis labels\n",
    "plt.show()"
   ]
  },
  {
   "cell_type": "code",
   "execution_count": null,
   "metadata": {},
   "outputs": [],
   "source": [
    "# Average discount per brand\n",
    "# plt.figure(figsize=(15, 6))\n",
    "\n",
    "# sns.set(style=\"white\")\n",
    "# sns.barplot(x='brand', y='discount_percentage', data=all_tables, hue='brand', palette='Blues', legend=False)\n",
    "\n",
    "# Add titles and axis labels\n",
    "# plt.title('Average discount percentage per brand', fontsize=14)\n",
    "# plt.xlabel('Product brand', fontsize=12)\n",
    "# plt.ylabel('Average Discount Percentage (%)', fontsize=12)\n",
    "\n",
    "# Show plot\n",
    "# plt.xticks(rotation=45)  # Rotation of x-axis labels\n",
    "# plt.show()"
   ]
  },
  {
   "cell_type": "markdown",
   "metadata": {},
   "source": [
    "### How do seasonality and special dates (Christmas, Black Friday) affect sales?"
   ]
  },
  {
   "cell_type": "code",
   "execution_count": null,
   "metadata": {},
   "outputs": [],
   "source": [
    "# Monthly Revenue Aggregation\n",
    "ol_p['month'] = ol_p['date'].dt.month\n",
    "monthly_revenue = ol_p.groupby('month')['unit_price_total'].sum()\n",
    "\n",
    "# Monthly Revenue Bar Chart\n",
    "plt.figure(figsize=(10, 6))\n",
    "sns.set(style=\"white\")\n",
    "sns.barplot(x=monthly_revenue.index, y=monthly_revenue.values, hue=monthly_revenue.index, palette='Blues', legend=False)\n",
    "\n",
    "# Add titles and axis labels\n",
    "plt.title('Monthly revenue', fontsize=16)\n",
    "plt.xlabel('Month', fontsize=12)\n",
    "plt.ylabel('Total revenue', fontsize=12)\n",
    "\n",
    "# Show plot\n",
    "plt.show()"
   ]
  },
  {
   "cell_type": "markdown",
   "metadata": {
    "id": "oQqlGq1ti8QI"
   },
   "source": [
    "### Products being discounted in 2017"
   ]
  },
  {
   "cell_type": "code",
   "execution_count": null,
   "metadata": {
    "executionInfo": {
     "elapsed": 254,
     "status": "ok",
     "timestamp": 1732351867290,
     "user": {
      "displayName": "Edicta Grullon",
      "userId": "06564017274082352377"
     },
     "user_tz": -60
    },
    "id": "mbotdyb0nzL4"
   },
   "outputs": [],
   "source": [
    "discounts_2017 = all_tables[all_tables['year'] == 2017]"
   ]
  },
  {
   "cell_type": "code",
   "execution_count": null,
   "metadata": {
    "colab": {
     "base_uri": "https://localhost:8080/"
    },
    "executionInfo": {
     "elapsed": 18,
     "status": "ok",
     "timestamp": 1732351868204,
     "user": {
      "displayName": "Edicta Grullon",
      "userId": "06564017274082352377"
     },
     "user_tz": -60
    },
    "id": "Ub2FeVwfjDlh",
    "outputId": "61ae4933-2a2a-4df1-b7c7-a711cca1ed3d"
   },
   "outputs": [],
   "source": [
    "# Amount of products being discounted (or not) in the year 2017 are as follows:\n",
    "# 1649 products were not discounted\n",
    "no_discounts = discounts_2017['discount'] == 0\n",
    "no_discounts.sum()"
   ]
  },
  {
   "cell_type": "code",
   "execution_count": null,
   "metadata": {
    "colab": {
     "base_uri": "https://localhost:8080/"
    },
    "executionInfo": {
     "elapsed": 246,
     "status": "ok",
     "timestamp": 1732351872773,
     "user": {
      "displayName": "Edicta Grullon",
      "userId": "06564017274082352377"
     },
     "user_tz": -60
    },
    "id": "bz9AZSPjjSEU",
    "outputId": "26353732-97eb-4934-d6fc-6263fa3c138c"
   },
   "outputs": [],
   "source": [
    "# 1393 products were being charged more than base price\n",
    "above_base_price = discounts_2017['discount'] < 0\n",
    "above_base_price.sum()"
   ]
  },
  {
   "cell_type": "code",
   "execution_count": null,
   "metadata": {
    "colab": {
     "base_uri": "https://localhost:8080/"
    },
    "executionInfo": {
     "elapsed": 231,
     "status": "ok",
     "timestamp": 1732351874725,
     "user": {
      "displayName": "Edicta Grullon",
      "userId": "06564017274082352377"
     },
     "user_tz": -60
    },
    "id": "el1VTA6cjRoO",
    "outputId": "9a332ca3-dc25-4539-9024-eef8b53b860c"
   },
   "outputs": [],
   "source": [
    "# 38923 products are discounted\n",
    "discounted = discounts_2017['discount'] > 0\n",
    "discounted.sum()"
   ]
  },
  {
   "cell_type": "markdown",
   "metadata": {
    "id": "u1U1r4Bm5hyT"
   },
   "source": [
    "### Losses (\"discounts\") versus gains"
   ]
  },
  {
   "cell_type": "code",
   "execution_count": null,
   "metadata": {
    "colab": {
     "base_uri": "https://localhost:8080/"
    },
    "executionInfo": {
     "elapsed": 214,
     "status": "ok",
     "timestamp": 1732351877617,
     "user": {
      "displayName": "Edicta Grullon",
      "userId": "06564017274082352377"
     },
     "user_tz": -60
    },
    "id": "9QQH-Qmf2xpT",
    "outputId": "fd2bf668-3f7f-47b5-8edd-8351e49da1e2"
   },
   "outputs": [],
   "source": [
    "# Variables and figures based on codes under section above \"New and calculated columns\"\n",
    "# sum_losses\"= amount total below base price (when product was sold for less than base price, =total of discounts)\n",
    "# sum_gains\"= amount total above base price (when product was sold for more than base price, =total of gains)\n",
    "\n",
    "# Filtering for rows where the year is 2017\n",
    "losses_2017 = losses[losses['year'] == 2017]\n",
    "gains_2017 = gains[gains['year'] == 2017]\n",
    "\n",
    "# Calculating the sum of 'dif_base_price' for the filtered data\n",
    "sum_losses_2017 = losses_2017['dif_base_price'].sum()\n",
    "sum_gains_2017 = gains_2017['dif_base_price'].sum()\n",
    "\n",
    "sum_losses_2017, sum_gains_2017\n",
    "# in Euros: 1,228,888.29 - 28,511.98"
   ]
  },
  {
   "cell_type": "code",
   "execution_count": null,
   "metadata": {
    "colab": {
     "base_uri": "https://localhost:8080/"
    },
    "executionInfo": {
     "elapsed": 317,
     "status": "ok",
     "timestamp": 1732351880727,
     "user": {
      "displayName": "Edicta Grullon",
      "userId": "06564017274082352377"
     },
     "user_tz": -60
    },
    "id": "Oe7GBwF94wy5",
    "outputId": "78a10d1f-2ca7-470b-f00f-25947ba6c78d"
   },
   "outputs": [],
   "source": [
    "# 2017 difference = 1,200,376.31 (\"losses\" in Euros to the company in 2017)\n",
    "1228888.29 - 28511.98"
   ]
  },
  {
   "cell_type": "code",
   "execution_count": null,
   "metadata": {
    "colab": {
     "base_uri": "https://localhost:8080/",
     "height": 251
    },
    "executionInfo": {
     "elapsed": 11,
     "status": "ok",
     "timestamp": 1732351881820,
     "user": {
      "displayName": "Edicta Grullon",
      "userId": "06564017274082352377"
     },
     "user_tz": -60
    },
    "id": "aPb8u-XrC0Ps",
    "outputId": "e3a025fe-3daa-4062-b432-4f54fd59d5aa"
   },
   "outputs": [],
   "source": [
    "all_tables.head(1)"
   ]
  },
  {
   "cell_type": "markdown",
   "metadata": {
    "id": "Y9fVrHRNANv-"
   },
   "source": [
    "### Evolution of losses (discounts) and gains (sales above base price) over time"
   ]
  },
  {
   "cell_type": "markdown",
   "metadata": {
    "id": "0vWWjzm__zs-"
   },
   "source": [
    "Looking at the evolution over time (year 2017 in weeks) of company's revenue comparing how much the products **could have sold** for if sold at base price (\"price_total\") versus how much they **actually sold** for (\"unit_price_total\").  Products sold below base price are seen as a \"loss\" to the company, whereas products sold above base price are seen as gains."
   ]
  },
  {
   "cell_type": "code",
   "execution_count": null,
   "metadata": {
    "id": "7t9-wIsOOjZE"
   },
   "outputs": [],
   "source": [
    "# Define a custom formatter\n",
    "def my_formatter(x, pos):\n",
    "    return f'{x / 1000:.1f}k'\n",
    "\n",
    "fig, ax = plt.subplots()\n",
    "ax.plot([1000, 2000, 3000, 4000], [1, 2, 3, 4])\n",
    "\n",
    "# Apply the custom formatter\n",
    "ax.yaxis.set_major_formatter(FuncFormatter(my_formatter))\n",
    "plt.show()"
   ]
  },
  {
   "cell_type": "code",
   "execution_count": null,
   "metadata": {
    "colab": {
     "base_uri": "https://localhost:8080/",
     "height": 708
    },
    "executionInfo": {
     "elapsed": 1295,
     "status": "ok",
     "timestamp": 1732352418098,
     "user": {
      "displayName": "Edicta Grullon",
      "userId": "06564017274082352377"
     },
     "user_tz": -60
    },
    "id": "6GvyogFKBRxC",
    "outputId": "2174b7a6-3561-409b-bf38-ee0ded99ed2c"
   },
   "outputs": [],
   "source": [
    "# Plotting shows peaks in sales when more discounts were offered!! Discounts are a good thing for the company!!!!!\n",
    "\n",
    "# Custom formatting of the y-axis to show amounts by the thousands (1,000 = 1K)\n",
    "def thousands_formatter(x, pos):\n",
    "    return f'{int(x / 1000)}k'\n",
    "\n",
    "# Aggregate unit_price_total and price_total by week and year\n",
    "all_tables_aggregated = all_tables.groupby(['year', 'week'])[['unit_price_total', 'price_total']].sum().reset_index()\n",
    "\n",
    "# Filter for the year 2017\n",
    "all_tables_2017 = all_tables_aggregated[all_tables_aggregated['year'] == 2017]\n",
    "\n",
    "all_tables_melted_2017 = all_tables_2017.melt(\n",
    "    id_vars='week',\n",
    "    value_vars=['unit_price_total', 'price_total'],\n",
    "    var_name='Category',\n",
    "    value_name='Value'\n",
    ")\n",
    "\n",
    "# Adjusting plot's width and height\n",
    "plt.figure(figsize=(14, 8))\n",
    "\n",
    "# Customizing legend names (custom names for the \"categories\")\n",
    "custom_labels = {'unit_price_total': 'Sold Price', 'price_total': 'Base Price'}\n",
    "all_tables_melted_2017['Category'] = all_tables_melted_2017['Category'].replace(custom_labels)\n",
    "\n",
    "# Ploting the data\n",
    "sns.lineplot(\n",
    "    data=all_tables_melted_2017,\n",
    "    x='week',\n",
    "    y='Value',\n",
    "    #style='Category',\n",
    "    #marker='o',\n",
    "    hue='Category',\n",
    "    #palette=['green', 'blue'],\n",
    "    palette=color_palette)\n",
    "\n",
    "# Setting all weeks as x-axis ticks\n",
    "weeks = sorted(all_tables_melted_2017['week'].unique())\n",
    "plt.xticks(weeks, labels=[f'{week}' for week in weeks])\n",
    "\n",
    "# Applying custom formatting to the y-axis\n",
    "# plt.gca().yaxis.set_major_formatter(FuncFormatter(thousands_formatter))\n",
    "\n",
    "# Customizing the y-axis formatting\n",
    "ax = plt.gca()  # Get the current axis\n",
    "# ax.yaxis.set_major_formatter(mtick.StrMethodFormatter('€{x:,.0f}'))\n",
    "ax.yaxis.set_major_formatter(mtick.FuncFormatter(lambda x, _: f'€{x/1e6:.1f}M'))\n",
    "\n",
    "# Adding titles and labels\n",
    "plt.title('Effects of Discounts on Sales (2017)', fontsize=16)\n",
    "plt.xlabel('Weeks)', fontsize=14)\n",
    "plt.ylabel('Revenue (€)', fontsize=14)\n",
    "plt.legend(title='', bbox_to_anchor=(0.13, .99))\n",
    "\n",
    "# Printing the plot\n",
    "plt.show()"
   ]
  },
  {
   "cell_type": "code",
   "execution_count": null,
   "metadata": {
    "colab": {
     "base_uri": "https://localhost:8080/",
     "height": 564
    },
    "executionInfo": {
     "elapsed": 1554,
     "status": "ok",
     "timestamp": 1732352649460,
     "user": {
      "displayName": "Edicta Grullon",
      "userId": "06564017274082352377"
     },
     "user_tz": -60
    },
    "id": "VQgQbp-hFxqN",
    "outputId": "1d20d28b-c698-4fb9-ff12-2f94497abd39"
   },
   "outputs": [],
   "source": [
    "# Adding trend lines makes it even clearer that the greater the discounts, the greater the sales revenues\n",
    "# again, discounts are a good thing for company!!!!!\n",
    "\n",
    "# Custom formatting of the y-axis to show amounts by the thousands (1,000 = 1K)\n",
    "def thousands_formatter(x, pos):\n",
    "    return f'{int(x / 1000)}k'\n",
    "\n",
    "# Customizing legend names (custom names for the \"categories\")\n",
    "custom_labels = {'unit_price_total': 'Sold Price', 'price_total': 'Base Price'}\n",
    "all_tables_melted_2017['Category'] = all_tables_melted_2017['Category'].replace(custom_labels)\n",
    "\n",
    "# Adjusting plot's width and height\n",
    "plt.figure(figsize=(18, 8))\n",
    "\n",
    "# Defining color as palette\n",
    "# palette = {'Sold Price': 'green', 'Base Price': 'blue'}\n",
    "palette = {'Sold Price': '#B4D8B2', 'Base Price': '#4572C5'}\n",
    "# palette=color_palette\n",
    "\n",
    "# Plotting the data (deactivating \"style\" means keeping only solid lines)\n",
    "sns.lineplot(\n",
    "    data=all_tables_melted_2017,\n",
    "    x='week',\n",
    "    y='Value',\n",
    "   # style='Category',\n",
    "    hue='Category',\n",
    "    palette=palette,\n",
    "    marker=None,\n",
    ")\n",
    "\n",
    "# Calculating and plotting trend lines for each category\n",
    "categories = all_tables_melted_2017['Category'].unique()\n",
    "for category in categories:\n",
    "    # Filtering data\n",
    "    category_data = all_tables_melted_2017[all_tables_melted_2017['Category'] == category]\n",
    "\n",
    "    # Performing linear regression\n",
    "    x = category_data['week']\n",
    "    y = category_data['Value']\n",
    "    trend = np.polyfit(x, y, deg=1)\n",
    "    trend_line = np.polyval(trend, x)\n",
    "\n",
    "    # Plotting the trend line with matching color\n",
    "    plt.plot(x, trend_line, linestyle=':', color=palette[category], label=f'{category} Trend', alpha=0.7)\n",
    "\n",
    "# Setting all weeks as x-axis ticks\n",
    "weeks = sorted(all_tables_melted_2017['week'].unique())\n",
    "plt.xticks(weeks, labels=[f'{week}' for week in weeks])\n",
    "\n",
    "# Applying custom formatting to the y-axis\n",
    "# plt.gca().yaxis.set_major_formatter(FuncFormatter(thousands_formatter))\n",
    "\n",
    "# Customizing the y-axis formatting\n",
    "ax = plt.gca()  # Get the current axis\n",
    "#ax.yaxis.set_major_formatter(mtick.StrMethodFormatter('€{x:,.0f}'))\n",
    "ax.yaxis.set_major_formatter(mtick.FuncFormatter(lambda x, _: f'€{x/1e6:.1f}M'))\n",
    "\n",
    "# Adding titles and labels\n",
    "plt.title('Effects of Discounts on Sales (2017)', fontsize=16)\n",
    "plt.xlabel('Weeks', fontsize=14)\n",
    "plt.ylabel('Revenue (€)', fontsize=14)\n",
    "\n",
    "# Adjusting the legend box\n",
    "plt.legend(bbox_to_anchor=(0.09, 0.9), loc='center')\n",
    "\n",
    "# Printing the plot\n",
    "plt.show()"
   ]
  },
  {
   "cell_type": "code",
   "execution_count": null,
   "metadata": {
    "colab": {
     "base_uri": "https://localhost:8080/",
     "height": 713
    },
    "executionInfo": {
     "elapsed": 1061,
     "status": "ok",
     "timestamp": 1732352819931,
     "user": {
      "displayName": "Edicta Grullon",
      "userId": "06564017274082352377"
     },
     "user_tz": -60
    },
    "id": "yoLSLsbff90j",
    "outputId": "7c30421d-335b-4cc9-b75a-5e6515e1adca"
   },
   "outputs": [],
   "source": [
    "# For 2018 the trend of higher discounts=higher sales continues from 2018, although looking at the first quarter only shows a negative trend line.\n",
    "# This negative trend line is comparative to 2017's when high sales from end of the year started to taper down.\n",
    "# It can be assumed that in 2018 trend lines will be similar to those in 2017.\n",
    "# One can also expect sales to be better in 2018 given the comparison from q1 2018 vs q1 2017 already shows an improvement\n",
    "\n",
    "# Filter for the year 2018\n",
    "all_tables_2018 = all_tables_aggregated[all_tables_aggregated['year'] == 2018]\n",
    "\n",
    "all_tables_melted_2018 = all_tables_2018.melt(\n",
    "    id_vars='week',\n",
    "    value_vars=['unit_price_total', 'price_total'],\n",
    "    var_name='Category',\n",
    "    value_name='Value'\n",
    ")\n",
    "\n",
    "# Custom formatting of the y-axis to show amounts by the thousands (1,000 = 1K)\n",
    "def thousands_formatter(x, pos):\n",
    "    return f'{int(x / 1000)}k'\n",
    "\n",
    "# Customizing legend names (custom names for the \"categories\")\n",
    "custom_labels = {'unit_price_total': 'Sold Price', 'price_total': 'Base Price'}\n",
    "all_tables_melted_2018['Category'] = all_tables_melted_2018['Category'].replace(custom_labels)\n",
    "\n",
    "# Adjusting plot's width and height\n",
    "plt.figure(figsize=(14, 8))\n",
    "\n",
    "# Defining color as palette\n",
    "palette = {'Sold Price': 'green', 'Base Price': 'blue'}\n",
    "\n",
    "# Plotting the data (deactivating \"style\" means keeping only solid lines)\n",
    "sns.lineplot(\n",
    "    data=all_tables_melted_2018,\n",
    "    x='week',\n",
    "    y='Value',\n",
    "   # style='Category',\n",
    "    hue='Category',\n",
    "    #palette=palette,\n",
    "    palette=color_palette,\n",
    "    marker=None\n",
    ")\n",
    "\n",
    "# Calculating and plotting trend lines for each category\n",
    "categories = all_tables_melted_2018['Category'].unique()\n",
    "for category in categories:\n",
    "    # Filtering data\n",
    "    category_data = all_tables_melted_2018[all_tables_melted_2018['Category'] == category]\n",
    "\n",
    "    # Performing linear regression\n",
    "    x = category_data['week']\n",
    "    y = category_data['Value']\n",
    "    trend = np.polyfit(x, y, deg=1)\n",
    "    trend_line = np.polyval(trend, x)\n",
    "\n",
    "    # Plotting the trend line with matching color\n",
    "    plt.plot(x, trend_line, linestyle=':', color=palette[category], label=f'{category} Trend', alpha=0.7)\n",
    "\n",
    "# Setting all weeks as x-axis ticks\n",
    "weeks = sorted(all_tables_melted_2018['week'].unique())\n",
    "plt.xticks(weeks, labels=[f'{week}' for week in weeks])\n",
    "\n",
    "# Applying custom formatting to the y-axis\n",
    "# plt.gca().yaxis.set_major_formatter(mticker.FuncFormatter(thousands_formatter))\n",
    "\n",
    "# Applying custom formatting to the y-axis\n",
    "plt.gca().yaxis.set_major_formatter(FuncFormatter(thousands_formatter))\n",
    "\n",
    "# Adding titles and labels\n",
    "plt.title('Effects of Discounts on Sales (2018)', fontsize=16)\n",
    "plt.xlabel('Weeks', fontsize=14)\n",
    "plt.ylabel('Revenue (€)', fontsize=14)\n",
    "\n",
    "# Adjusting the legend box\n",
    "plt.legend(bbox_to_anchor=(0.09, 0.9), loc='center')\n",
    "\n",
    "# Printing the plot\n",
    "plt.show()"
   ]
  },
  {
   "cell_type": "markdown",
   "metadata": {
    "id": "rH45ZO4rvFg-"
   },
   "source": [
    "### Seasons and discounts"
   ]
  },
  {
   "cell_type": "code",
   "execution_count": null,
   "metadata": {
    "colab": {
     "base_uri": "https://localhost:8080/",
     "height": 587
    },
    "executionInfo": {
     "elapsed": 2755,
     "status": "ok",
     "timestamp": 1732352839058,
     "user": {
      "displayName": "Edicta Grullon",
      "userId": "06564017274082352377"
     },
     "user_tz": -60
    },
    "id": "-A6RjPkn85WB",
    "outputId": "babd23f0-f16f-49e2-de72-7299e83b4a98"
   },
   "outputs": [],
   "source": [
    "grouped_data_dates_discounts = all_tables.groupby(['week','year','%_change','price','unit_price'])['%_change'].mean().reset_index(name='total_revenue')\n",
    "\n",
    "sns.catplot(\n",
    "    data=grouped_data_dates_discounts,\n",
    "    x=\"week\",\n",
    "    y=\"%_change\",\n",
    "    hue=\"year\",\n",
    "    kind=\"bar\",\n",
    "    height=6,\n",
    "    aspect=2,\n",
    "    #palette=['green', 'blue'],\n",
    "    palette=color_palette,\n",
    "    errorbar=None,\n",
    ")\n",
    "\n",
    "# Adding titles to show in plot\n",
    "plt.title(\"Discounts by Weeks in 2017 and 2018\")\n",
    "plt.ylabel(\"Discount %\")\n",
    "plt.xlabel(\"Weeks\")\n",
    "plt"
   ]
  },
  {
   "cell_type": "markdown",
   "metadata": {
    "id": "X_Fi4L-Ju1VC"
   },
   "source": [
    "### Relationship between amount of products sold and discount %"
   ]
  },
  {
   "cell_type": "code",
   "execution_count": null,
   "metadata": {
    "colab": {
     "base_uri": "https://localhost:8080/",
     "height": 589
    },
    "executionInfo": {
     "elapsed": 1436,
     "status": "ok",
     "timestamp": 1732353104957,
     "user": {
      "displayName": "Edicta Grullon",
      "userId": "06564017274082352377"
     },
     "user_tz": -60
    },
    "id": "RCn1ppmF2YE2",
    "outputId": "a72436b9-e5fe-4ae7-bfd4-cb2e08f8b64e"
   },
   "outputs": [],
   "source": [
    "# Discounts seem to make a difference in how many products are sold only during special seasons (i.e. black friday and xmas)\n",
    "# Discounts do not seem to make a difference any other time of the year\n",
    "\n",
    "# When wanting to see plotting by condition \"opened\" (or \"new\"):\n",
    "# filtered_data = all_tables[(all_tables['year'] == 2017) & (all_tables['condition'] == 'Opened')]\n",
    "\n",
    "# Filter data to include only rows where the year is 2017\n",
    "filtered_data = all_tables[all_tables['year'] == 2017]\n",
    "\n",
    "# Group data by 'week' to calculate averages\n",
    "weekly_data = filtered_data.groupby('week').agg(\n",
    "    avg_percentage_change=('%_change', 'mean'),\n",
    "    avg_product_quantity=('product_quantity', 'sum')\n",
    ").reset_index()\n",
    "\n",
    "# Set up the figure and axis\n",
    "fig, ax1 = plt.subplots(figsize=(12, 6))\n",
    "\n",
    "# Plot the average percentages per week on the primary y-axis\n",
    "sns.lineplot(\n",
    "    data=weekly_data,\n",
    "    x='week',\n",
    "    y='avg_percentage_change',\n",
    "    #marker='o',\n",
    "    ax=ax1,\n",
    "    #color='blue',\n",
    "    color='#4572C5',\n",
    "    label='% Discount'\n",
    ")\n",
    "\n",
    "# Customize the primary y-axis\n",
    "ax1.set_ylabel('% Discount', fontsize=12,\n",
    "               color='blue',\n",
    "               #color='#4572C5'\n",
    "               )\n",
    "ax1.tick_params(axis='y',\n",
    "                labelcolor='blue',\n",
    "                #labelcolor='#4572C5'\n",
    "                )\n",
    "ax1.set_xlabel('Weeks', fontsize=12)\n",
    "ax1.set_xticks(weekly_data['week'])\n",
    "ax1.set_xticklabels(weekly_data['week'])\n",
    "\n",
    "# Create a secondary y-axis for the average product quantity\n",
    "ax2 = ax1.twinx()\n",
    "sns.lineplot(\n",
    "    data=weekly_data,\n",
    "    x='week',\n",
    "    y='avg_product_quantity',\n",
    "    #marker='o',\n",
    "    ax=ax2,\n",
    "    #color='green',\n",
    "    color='#B4D8B2',\n",
    "    label='Products Sold'\n",
    ")\n",
    "\n",
    "# Customize the secondary y-axis\n",
    "ax2.set_ylabel('Products Sold', fontsize=12, color='green')\n",
    "ax2.tick_params(axis='y', labelcolor='green',\n",
    "                #labelcolor='#B4D8B2'\n",
    "                )\n",
    "\n",
    "# Add a title\n",
    "plt.title('Weekly Trends in 2017: % Discounts and Products Sold (Weekly averages)', fontsize=14)\n",
    "\n",
    "# Adjust layout and show the plot\n",
    "fig.tight_layout()\n",
    "plt.show()"
   ]
  },
  {
   "cell_type": "markdown",
   "metadata": {
    "id": "9G6BzhOhN9Hs"
   },
   "source": [
    "### Relationship between order size and discounts"
   ]
  },
  {
   "cell_type": "code",
   "execution_count": null,
   "metadata": {
    "colab": {
     "base_uri": "https://localhost:8080/",
     "height": 589
    },
    "executionInfo": {
     "elapsed": 1612,
     "status": "ok",
     "timestamp": 1732353110895,
     "user": {
      "displayName": "Edicta Grullon",
      "userId": "06564017274082352377"
     },
     "user_tz": -60
    },
    "id": "9WpJV-jgNtxh",
    "outputId": "148d95cd-91cd-44c8-b4da-71411de94a22"
   },
   "outputs": [],
   "source": [
    "# There does not seem to be a relationship betwween discount % and how many products are ordered/ordered size\n",
    "ax2.yaxis.set_major_locator(MaxNLocator(integer=True))\n",
    "\n",
    "# Group by week and order_id to calculate weekly average products per order\n",
    "avg_products_per_order = (\n",
    "    filtered_data.groupby(['week', 'order_id'])['product_quantity']\n",
    "    .sum()\n",
    "    .groupby('week')\n",
    "    .mean()\n",
    "    .reset_index(name='avg_products_per_order')\n",
    ")\n",
    "\n",
    "# Merge with weekly_data for combined plotting\n",
    "weekly_data = filtered_data.groupby('week').agg(\n",
    "    avg_percentage_change=('%_change', 'mean')\n",
    ").reset_index()\n",
    "weekly_data = weekly_data.merge(avg_products_per_order, on='week')\n",
    "\n",
    "# Set up the figure and axis\n",
    "fig, ax1 = plt.subplots(figsize=(12, 6))\n",
    "\n",
    "# Primary axis plot\n",
    "sns.lineplot(\n",
    "    data=weekly_data,\n",
    "    x='week',\n",
    "    y='avg_percentage_change',\n",
    "    ax=ax1,\n",
    "    #color='blue',\n",
    "    color='#4572C5',\n",
    "    label='% Discount'\n",
    ")\n",
    "ax1.set_ylabel('% Discount', fontsize=12, color='blue')\n",
    "ax1.tick_params(axis='y',\n",
    "                labelcolor='blue',\n",
    "                #labelcolor='#4572C5'\n",
    "                )\n",
    "\n",
    "# Secondary axis plot\n",
    "ax2 = ax1.twinx()\n",
    "sns.lineplot(\n",
    "    data=weekly_data,\n",
    "    x='week',\n",
    "    y='avg_products_per_order',\n",
    "    ax=ax2,\n",
    "    #color='green',\n",
    "    color='#B4D8B2',\n",
    "    label='Avg Products per Order'\n",
    ")\n",
    "ax2.set_ylabel('Avg Products per Order', fontsize=12, color='green')\n",
    "ax2.tick_params(axis='y', labelcolor='green')\n",
    "ax2.yaxis.set_major_locator(MaxNLocator(integer=True))  # Force whole numbers\n",
    "\n",
    "# Add title and finalize layout\n",
    "plt.title('Weekly Trends in 2017: % Discounts and Avg Products per Order', fontsize=14)\n",
    "fig.tight_layout()\n",
    "plt.legend(loc='upper left')\n",
    "plt.show()\n"
   ]
  },
  {
   "cell_type": "code",
   "execution_count": null,
   "metadata": {
    "colab": {
     "base_uri": "https://localhost:8080/",
     "height": 589
    },
    "executionInfo": {
     "elapsed": 1981,
     "status": "ok",
     "timestamp": 1732353120503,
     "user": {
      "displayName": "Edicta Grullon",
      "userId": "06564017274082352377"
     },
     "user_tz": -60
    },
    "id": "S3HUZVE3cOhQ",
    "outputId": "a84fee8d-7ba4-4542-9bf6-8d9fdedab416"
   },
   "outputs": [],
   "source": [
    "# Step 1: Calculate the average of the '%_change' column\n",
    "average_discount = all_tables['%_change'].mean()\n",
    "\n",
    "# Step 2: Group by 'category' and calculate the average '%_change'\n",
    "grouped_avg_discount = all_tables.groupby('category')['%_change'].mean()\n",
    "\n",
    "# Step 3: Filter data where 'condition' is 'Opened'\n",
    "filtered_weekly_data = all_tables[all_tables['condition'] == 'Opened']\n",
    "\n",
    "# Step 4: Aggregate the data by 'week'\n",
    "weekly_data = filtered_weekly_data.groupby('week').agg(\n",
    "    avg_percentage_change=('%_change', 'mean'),\n",
    "    avg_products_per_order=('product_quantity', 'mean')\n",
    ").reset_index()\n",
    "\n",
    "# Step 5: Prepare data for trend lines\n",
    "X_weeks = weekly_data['week'].values.reshape(-1, 1)\n",
    "\n",
    "# Step 6: Calculate the trend line for Discount Percentage\n",
    "discount_model = LinearRegression()\n",
    "discount_model.fit(X_weeks, weekly_data['avg_percentage_change'])\n",
    "weekly_data['discount_trend'] = discount_model.predict(X_weeks)\n",
    "\n",
    "# Step 7: Calculate the trend line for Avg Products per Order\n",
    "products_model = LinearRegression()\n",
    "products_model.fit(X_weeks, weekly_data['avg_products_per_order'])\n",
    "weekly_data['products_trend'] = products_model.predict(X_weeks)\n",
    "\n",
    "# Step 8: Set up the plot\n",
    "fig, ax1 = plt.subplots(figsize=(12, 6))\n",
    "\n",
    "# Plot for % Discount on primary axis\n",
    "sns.lineplot(\n",
    "    data=weekly_data,\n",
    "    x='week',\n",
    "    y='avg_percentage_change',\n",
    "    ax=ax1,\n",
    "    #color='blue',\n",
    "    color='#4572C5',\n",
    "    label='% Discount'\n",
    ")\n",
    "sns.lineplot(\n",
    "    data=weekly_data,\n",
    "    x='week',\n",
    "    y='discount_trend',\n",
    "    ax=ax1,\n",
    "    #color='blue',\n",
    "    color='#4572C5',\n",
    "    linestyle='--',\n",
    "    label='Discount Trend'\n",
    ")\n",
    "ax1.set_ylabel('% Discount', fontsize=12, color='blue')\n",
    "ax1.tick_params(axis='y', labelcolor='blue')\n",
    "\n",
    "# Plot for Avg Products per Order on secondary axis\n",
    "ax2 = ax1.twinx()\n",
    "sns.lineplot(\n",
    "    data=weekly_data,\n",
    "    x='week',\n",
    "    y='avg_products_per_order',\n",
    "    ax=ax2,\n",
    "    #color='green',\n",
    "    color='#B4D8B2',\n",
    "    label='Avg Products per Order'\n",
    ")\n",
    "sns.lineplot(\n",
    "    data=weekly_data,\n",
    "    x='week',\n",
    "    y='products_trend',\n",
    "    ax=ax2,\n",
    "    #color='green',\n",
    "    color='#B4D8B2',\n",
    "    linestyle='--',\n",
    "    label='Products Trend'\n",
    ")\n",
    "ax2.set_ylabel('Avg Products per Order', fontsize=12, color='green')\n",
    "ax2.tick_params(axis='y', labelcolor='green')\n",
    "ax2.yaxis.set_major_locator(MaxNLocator(integer=True))\n",
    "\n",
    "# Step 9: Adjust x-axis and finalize layout\n",
    "ax1.xaxis.set_major_locator(MaxNLocator(integer=True))\n",
    "plt.title('Weekly Trends: % Discounts and Avg Products per Order (Condition: Open)', fontsize=14)\n",
    "fig.tight_layout()\n",
    "\n",
    "# Step 10: Show legend and plot\n",
    "plt.legend(loc='upper left')\n",
    "plt.show()\n"
   ]
  },
  {
   "cell_type": "markdown",
   "metadata": {
    "id": "hu_5opn9OF-E"
   },
   "source": [
    "### Discount % according to category and condition (\"New\" or \"Opened\")"
   ]
  },
  {
   "cell_type": "code",
   "execution_count": null,
   "metadata": {
    "colab": {
     "base_uri": "https://localhost:8080/",
     "height": 1000
    },
    "executionInfo": {
     "elapsed": 6882,
     "status": "ok",
     "timestamp": 1732353135756,
     "user": {
      "displayName": "Edicta Grullon",
      "userId": "06564017274082352377"
     },
     "user_tz": -60
    },
    "id": "0GFuydT3I7O4",
    "outputId": "ad15a996-418e-4989-d5f5-7562b81d10d6"
   },
   "outputs": [],
   "source": [
    "# Opened items get the highest discount % which might pull the avg across new and opened\n",
    "\n",
    "# Filter data to include only rows where the year is 2017\n",
    "filtered_data = all_tables[all_tables['year'] == 2017]\n",
    "\n",
    "# Group data by 'week', 'categories', and 'condition' to calculate averages\n",
    "grouped_data = (\n",
    "    filtered_data.groupby(['week', 'category', 'condition'])\n",
    "    .agg(\n",
    "        avg_percentage_change=('%_change', 'mean'),\n",
    "        avg_product_quantity=('product_quantity', 'sum')\n",
    "    )\n",
    "    .reset_index()\n",
    ")\n",
    "\n",
    "palette = {'New': 'green','Opened': 'blue'}\n",
    "\n",
    "# Set up a FacetGrid to create subplots for each category\n",
    "g = sns.FacetGrid(\n",
    "    grouped_data,\n",
    "    col=\"category\",\n",
    "    col_wrap=3,  # Adjust to control the number of columns in the grid\n",
    "    height=4,\n",
    "    sharex=True,\n",
    "    sharey=False\n",
    ")\n",
    "\n",
    "# Add line plots for avg_percentage_change (primary y-axis)\n",
    "g.map_dataframe(\n",
    "    sns.lineplot,\n",
    "    x=\"week\",\n",
    "    y=\"avg_percentage_change\",\n",
    "    hue=\"condition\",\n",
    "    #palette=palette,\n",
    "    palette=color_palette\n",
    ")\n",
    "g.set_axis_labels(\"Week\", \"% Discount\")\n",
    "g.set_titles(\"{col_name}\")\n",
    "g.add_legend(title=\"Condition\")\n",
    "\n",
    "# Customize the layout and show the plot\n",
    "plt.subplots_adjust(top=0.9)\n",
    "g.fig.suptitle(\"Weekly Trends in 2017 by Categories: % Discount and Condition\")\n",
    "plt.show()"
   ]
  }
 ],
 "metadata": {
  "colab": {
   "authorship_tag": "ABX9TyMOZAG8pK7+mnMDAAendP2d",
   "provenance": []
  },
  "kernelspec": {
   "display_name": "Python 3 (ipykernel)",
   "language": "python",
   "name": "python3"
  },
  "language_info": {
   "codemirror_mode": {
    "name": "ipython",
    "version": 3
   },
   "file_extension": ".py",
   "mimetype": "text/x-python",
   "name": "python",
   "nbconvert_exporter": "python",
   "pygments_lexer": "ipython3",
   "version": "3.12.7"
  }
 },
 "nbformat": 4,
 "nbformat_minor": 4
}
